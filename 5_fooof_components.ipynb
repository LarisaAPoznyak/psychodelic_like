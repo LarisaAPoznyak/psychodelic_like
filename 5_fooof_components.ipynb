{
 "cells": [
  {
   "cell_type": "code",
   "execution_count": null,
   "id": "0e3509fb-04b3-4eec-9365-da0132ad9716",
   "metadata": {},
   "outputs": [],
   "source": [
    "import mne\n",
    "import os\n",
    "import os.path as op\n",
    "import numpy as np\n",
    "import pandas as  pd\n",
    "import matplotlib.pyplot as plt\n",
    "import re\n",
    "import glob\n",
    "from fooof import FOOOF\n",
    "from fooof.analysis import get_band_peak_fm\n",
    "from fooof.bands import Bands"
   ]
  },
  {
   "cell_type": "code",
   "execution_count": null,
   "id": "455b4eeb-4c7f-43dc-9c17-a481b81680f7",
   "metadata": {
    "scrolled": true
   },
   "outputs": [],
   "source": [
    "#read files with psd data\n",
    "files = os.listdir('/media/user/One Touch/hse/psychodelic_like_experience/data_processing/psd_df/')\n",
    "dfs = []\n",
    "for file in files:\n",
    "    df = pd.read_csv(f'/media/user/One Touch/hse/psychodelic_like_experience/data_processing/psd_df/{file}')\n",
    "    df['name'] = file\n",
    "    print(df)\n",
    "    dfs.append(df)\n",
    "df_full = pd.concat(dfs)"
   ]
  },
  {
   "cell_type": "code",
   "execution_count": null,
   "id": "b6820e84-5305-421f-8a29-da2a8e334f30",
   "metadata": {},
   "outputs": [],
   "source": [
    "#filter frequencies of interest 1-30Hz\n",
    "filtered_df = df_full[df_full['freq'] > 1]\n",
    "filtered_df = filtered_df[filtered_df['freq'] < 30]\n",
    "filtered_df"
   ]
  },
  {
   "cell_type": "code",
   "execution_count": null,
   "id": "e6a83302-54ae-4e9b-bf7c-46e83ee2caec",
   "metadata": {},
   "outputs": [],
   "source": [
    "#columns\n",
    "filtered_df[['name', 'del']] = filtered_df['name'].str.split('.', n=1, expand=True)\n",
    "filtered_df[['subj','condition', 'color']] = filtered_df['name'].str.split('_', n=2, expand=True)\n",
    "filtered_df = filtered_df.drop(['name', 'del'], axis = 1)\n",
    "filtered_df"
   ]
  },
  {
   "cell_type": "code",
   "execution_count": null,
   "id": "61f27cad-67d2-4dbc-bb6a-2eba1ea2414d",
   "metadata": {
    "scrolled": true
   },
   "outputs": [],
   "source": [
    "#main cell. model fitting and data extraction \n",
    "bands = Bands({'delta' : [1, 4],\n",
    "               'theta' : [4, 8],\n",
    "               'alpha' : [8, 13],\n",
    "               'beta' : [13, 30]})\n",
    "ap_analysis = []\n",
    "for subject in filtered_df['subj'].unique():\n",
    "    for condition in filtered_df['condition'].unique():\n",
    "        for color in filtered_df['color'].unique():\n",
    "   \n",
    "                    try:\n",
    "    \n",
    "                        temp1 = filtered_df[(filtered_df.condition == condition) & (filtered_df.subj == subject)& (filtered_df.color == color)].iloc[:,3 :-2].groupby(['freq']).mean().mean(axis = 1)\n",
    "                        print(temp1)\n",
    "                        temp1 = temp1.reset_index()\n",
    "                        spectrum= np.array(temp1[0])\n",
    "                        if spectrum.shape == (725,):\n",
    "                            #spectrums.append(spectrum)\n",
    "                            freqs = np.array(temp1['freq'])\n",
    "                            fm = FOOOF(max_n_peaks = 5, aperiodic_mode =  'knee' )\n",
    "                            freq_range = [1, 30]\n",
    "                            fm.report(np.array(temp1['freq']), np.array(spectrum).reshape(725,), freq_range,  plot_full_range=True)\n",
    "                            d1, d2, d3 = get_band_peak_fm(fm, bands.delta)\n",
    "                            t1, t2, t3 = get_band_peak_fm(fm, bands.theta)\n",
    "                            a1, a2, a3 = get_band_peak_fm(fm, bands.alpha)\n",
    "                            b1, b2, b3 = get_band_peak_fm(fm, bands.beta)\n",
    "                            #print(alpha)\n",
    "                            ap1, ap2, ap3 = fm.aperiodic_params_\n",
    "                            #ap1, ap2 = fm.aperiodic_params_\n",
    "                            er = fm.error_\n",
    "                            rs = fm.r_squared_\n",
    "                            test = pd.DataFrame()\n",
    "                            test[1] = [1]\n",
    "                            test['subj'] = subject\n",
    "                            test['condition'] = condition\n",
    "                            test['color']= color\n",
    "                            test['d1'] = d1\n",
    "                            test['d2'] = d2\n",
    "                            test['d3'] = d3\n",
    "                            test['t1'] = t1\n",
    "                            test['t2'] = t2\n",
    "                            test['t3'] = t3\n",
    "                            test['a1'] = a1\n",
    "                            test['a2'] = a2\n",
    "                            test['a3'] = a3\n",
    "                            test['b1'] = b1\n",
    "                            test['b2'] = b2\n",
    "                            test['b3'] = b3\n",
    "                            test['ap1'] = ap1\n",
    "                            test['ap2'] = ap2\n",
    "                            test['ap3'] = ap3\n",
    "                            test['er'] = er\n",
    "                            test['rs'] = rs\n",
    "                            print(test)\n",
    "                            ap_analysis.append(test) \n",
    "    \n",
    "                    except(IndexError):\n",
    "                        print('oops')\n"
   ]
  },
  {
   "cell_type": "code",
   "execution_count": null,
   "id": "f20dfc4c-3385-4db9-9478-a41eb58c189c",
   "metadata": {},
   "outputs": [],
   "source": [
    "df_full = pd.concat(ap_analysis)\n",
    "df_full"
   ]
  },
  {
   "cell_type": "code",
   "execution_count": null,
   "id": "ca6994b8-d119-4e9a-abfd-7fc67f6d5607",
   "metadata": {},
   "outputs": [],
   "source": [
    "df_full.to_csv('/media/user/One Touch/hse/2207_ap_output_color_fin.csv', index=False) \n"
   ]
  },
  {
   "cell_type": "code",
   "execution_count": null,
   "id": "0a4a5d1e-33a3-4e6b-8d43-65dc7f54faf1",
   "metadata": {},
   "outputs": [],
   "source": [
    "from fooof import FOOOFGroup\n"
   ]
  },
  {
   "cell_type": "code",
   "execution_count": null,
   "id": "cc7a7068-7f3c-4afe-8f36-5d8565c89bca",
   "metadata": {},
   "outputs": [],
   "source": [
    "                        temp1 = filtered_df[(filtered_df.condition == 'Fractal') & (filtered_df.color == 'Blue')].iloc[:,3 :-2].groupby(['freq']).mean().mean(axis = 1)\n",
    "                        print(temp1)\n",
    "                        temp1 = temp1.reset_index()\n",
    "                        freqs = np.array(temp1['freq'])\n"
   ]
  },
  {
   "cell_type": "code",
   "execution_count": null,
   "id": "78297c72-dbbc-4149-bcca-f1926e34d0a4",
   "metadata": {},
   "outputs": [],
   "source": [
    "filtered_df['condition'].unique()"
   ]
  },
  {
   "cell_type": "code",
   "execution_count": null,
   "id": "77cbf2c2",
   "metadata": {
    "scrolled": true
   },
   "outputs": [],
   "source": [
    "#group properties \n",
    "bands = Bands({'delta' : [1, 4],\n",
    "               'theta' : [4, 8],\n",
    "               'alpha' : [8, 13],\n",
    "               'beta' : [13, 30]})\n",
    "for condition in filtered_df['condition'].unique():\n",
    "    spectrums = []\n",
    "    for subject in filtered_df['subj'].unique():\n",
    "        for color in filtered_df['color'].unique():\n",
    "                    try:\n",
    "                        temp1 = filtered_df[(filtered_df.condition == condition) & (filtered_df.subj == subject)& (filtered_df.color == color)].iloc[:,3 :-2].groupby(['freq']).mean().mean(axis = 1)\n",
    "                        print(temp1)\n",
    "                        temp1 = temp1.reset_index()\n",
    "                        #freqs = np.array(temp1['freq'])\n",
    "                        spectrum= np.array(temp1[0])\n",
    "                        if spectrum.shape == (725,):\n",
    "                            spectrums.append(spectrum)\n",
    "                            \n",
    "                    except(IndexError):\n",
    "                        print('oops')\n",
    "\n",
    "    #freqs = np.array(temp1['freq'])\n",
    "    fg = FOOOFGroup(aperiodic_mode =  'knee', max_n_peaks=5)\n",
    "    freq_range = [1, 30]\n",
    "    fg.fit(freqs, np.array(spectrums), freq_range)\n",
    "    fg.save_report(f'/home/user/Downloads/test_{condition}_FOOOFGroup_report.pdf')\n",
    "\n",
    "\n",
    "    "
   ]
  },
  {
   "cell_type": "code",
   "execution_count": null,
   "id": "b53a8237-f863-4e26-b8c2-b7815d81e213",
   "metadata": {},
   "outputs": [],
   "source": [
    "                        temp1 = filtered_df[(filtered_df.condition == condition) & (filtered_df.subj == subject)& (filtered_df.color == color)].iloc[:,3 :-2].groupby(['freq']).mean().mean(axis = 1)\n",
    "                        temp1"
   ]
  },
  {
   "cell_type": "code",
   "execution_count": null,
   "id": "342fedc7-9a0d-4864-8ef2-c0e6c26f60a1",
   "metadata": {},
   "outputs": [],
   "source": [
    "fg.fit(np.array(temp1['freq']), np.array(spectrums), freq_range)"
   ]
  },
  {
   "cell_type": "code",
   "execution_count": null,
   "id": "0a8377e2-0050-408c-b094-16c5a81bd255",
   "metadata": {},
   "outputs": [],
   "source": [
    "fg.fit(np.array(temp1['freq']), np.array(spectrums), freq_range)\n"
   ]
  },
  {
   "cell_type": "code",
   "execution_count": null,
   "id": "66199ed5-ce17-4383-b892-e94e35ca773a",
   "metadata": {},
   "outputs": [],
   "source": [
    "fg.print_results()\n"
   ]
  },
  {
   "cell_type": "code",
   "execution_count": null,
   "id": "a3c16f62-060b-4584-9f7f-56a61bd93ee7",
   "metadata": {},
   "outputs": [],
   "source": [
    "fg.plot()\n"
   ]
  },
  {
   "cell_type": "code",
   "execution_count": null,
   "id": "d06237e9-e5f4-415f-99e6-913227a6daaf",
   "metadata": {},
   "outputs": [],
   "source": [
    "fg.save_report('/home/user/Downloads/testFOOOFGroup_report.pdf')\n"
   ]
  }
 ],
 "metadata": {
  "kernelspec": {
   "display_name": "Python 3 (ipykernel)",
   "language": "python",
   "name": "python3"
  },
  "language_info": {
   "codemirror_mode": {
    "name": "ipython",
    "version": 3
   },
   "file_extension": ".py",
   "mimetype": "text/x-python",
   "name": "python",
   "nbconvert_exporter": "python",
   "pygments_lexer": "ipython3",
   "version": "3.10.16"
  }
 },
 "nbformat": 4,
 "nbformat_minor": 5
}
