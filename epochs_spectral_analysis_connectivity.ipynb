{
 "cells": [
  {
   "cell_type": "code",
   "execution_count": null,
   "id": "7a57ce03-f862-4f2a-b1c4-5272f50c84d5",
   "metadata": {},
   "outputs": [],
   "source": [
    "import neurokit2 as nk\n",
    "import mne\n",
    "import os\n",
    "import os.path as op\n",
    "import numpy as np\n",
    "import pandas as  pd\n",
    "import matplotlib.pyplot as plt\n",
    "import re\n"
   ]
  },
  {
   "cell_type": "code",
   "execution_count": null,
   "id": "b4ddcf07-00a6-4428-8d8a-2af1165d19a8",
   "metadata": {},
   "outputs": [],
   "source": [
    "raw = mne.io.read_raw('D:/hse/psychodelic_like_experience/data_processing/eeg_cleaned_ica/FX48.fif')"
   ]
  },
  {
   "cell_type": "code",
   "execution_count": null,
   "id": "bd0d0dae-cee9-4a29-9340-0dd9b298f0a2",
   "metadata": {},
   "outputs": [],
   "source": [
    "events = mne.read_events('D:/hse/psychodelic_like_experience/data_processing/events/fx48_eve.txt')"
   ]
  },
  {
   "cell_type": "code",
   "execution_count": null,
   "id": "416c4bb4-a879-47cf-bef8-7b6a6415b639",
   "metadata": {},
   "outputs": [],
   "source": [
    "raw.first_samp"
   ]
  },
  {
   "cell_type": "code",
   "execution_count": null,
   "id": "5aba7da2-9515-4895-9c2d-9983bbb12d28",
   "metadata": {},
   "outputs": [],
   "source": [
    "all_events_id = {\n",
    "    'FractalBlue': 101,\n",
    "    'FractalPurple': 102,\n",
    "    'FractalGreen': 103,\n",
    "    'FractalRed': 104,\n",
    "    'FractalYellow': 105,\n",
    "\n",
    "    'kaleidoscopeBlue': 201,\n",
    "    'kaleidoscopePurple': 202,\n",
    "    'kaleidoscopeGreen': 203,\n",
    "    'kaleidoscopeRed': 204,\n",
    "    'kaleidoscopeYellow': 205,\n",
    "\n",
    "    'CubesControlPinkBlue': 301,\n",
    "    'CubesControlPurpleGreen': 302,\n",
    "    'CubesControlBlueRed': 303,\n",
    "    'CubesControlPinkYellow': 304,\n",
    "    'CubesControlGreenOrange': 305,\n",
    "\n",
    "    'HoneyCombBluePink': 401,\n",
    "    'HoneyCombGreenPurple': 402,\n",
    "    'HoneyCombRedBlue': 403,\n",
    "    'HoneyCombOrangePink': 404,\n",
    "    'HoneyCombGreenOrange': 405\n",
    "}\n",
    "\n",
    "event_id = {\n",
    "    'HoneyCombGreenPurple': 0,\n",
    "    'FractalGreen': 1,\n",
    "    'FractalYellow': 2,\n",
    "    'CubesControlPinkYellow': 3,\n",
    "    'kaleidoscopePurple': 4,\n",
    "    'CubesControlBlueRed': 5,\n",
    "    'HoneyCombOrangePink': 6,\n",
    "    'CubesControlPurpleGreen': 7,\n",
    "    'FractalPurple': 8,\n",
    "    'FractalRed': 9,\n",
    "    'HoneyCombRedBlue': 10,\n",
    "    'CubesControlPinkBlue': 11,\n",
    "    'kaleidoscopeYellow': 12,\n",
    "    'kaleidoscopeGreen': 13,\n",
    "    'FractalBlue': 14,\n",
    "    'CubesControlGreenOrange': 15,\n",
    "    'kaleidoscopeBlue': 16,\n",
    "    'HoneyCombGreenOrange': 17,\n",
    "    'kaleidoscopeRed': 18,\n",
    "    'HoneyCombBluePink': 19\n",
    "}\n",
    "\n",
    "# Create a new dictionary by mapping labels to numbers\n",
    "EVENT_ID = {label: all_events_id.get(label, None) for label in event_id}\n",
    "\n",
    "# Print the merged dictionary\n",
    "print(EVENT_ID)\n"
   ]
  },
  {
   "cell_type": "code",
   "execution_count": null,
   "id": "1da263da-552b-4111-b491-edcfd7e2a4a0",
   "metadata": {},
   "outputs": [],
   "source": [
    "def replace_substrings(key):\n",
    "    # Define the replacement rules\n",
    "    replacements = {\"Fractal\": \"Fractal/\",\"Control\": \"Control/\", \"HoneyComb\":\"HoneyComb/\", \"kaleidoscope\": \"kaleidoscope/\"}  # Add more as needed\n",
    "\n",
    "    # Apply replacements\n",
    "    for old, new in replacements.items():\n",
    "        key = key.replace(old, new)\n",
    "\n",
    "    return key\n"
   ]
  },
  {
   "cell_type": "code",
   "execution_count": null,
   "id": "9f3867a9-cefd-4419-9ddb-0be04bedd1b1",
   "metadata": {},
   "outputs": [],
   "source": [
    "new_dict = {}\n",
    "\n",
    "for key, value in EVENT_ID.items():\n",
    "    new_key = replace_substrings(key)\n",
    "    new_dict[new_key] = value\n",
    "\n",
    "print(new_dict)\n"
   ]
  },
  {
   "cell_type": "code",
   "execution_count": null,
   "id": "d39c65cf-770a-4aa3-811c-d6a8cbf5f927",
   "metadata": {},
   "outputs": [],
   "source": [
    "epochs = mne.Epochs(raw, events, new_dict, tmin=-5, tmax=60, baseline=(-5, 0), preload = True)"
   ]
  },
  {
   "cell_type": "code",
   "execution_count": null,
   "id": "e8bf8856-c17b-47f2-8069-3025cdaf2955",
   "metadata": {},
   "outputs": [],
   "source": [
    "epochs.plot( n_epochs=1, n_channels=20, title=None, show=True, block=False, decim='auto')"
   ]
  },
  {
   "cell_type": "code",
   "execution_count": null,
   "id": "3f02cc29-e69f-48ca-ba5e-9961c0070832",
   "metadata": {},
   "outputs": [],
   "source": [
    "#psd"
   ]
  },
  {
   "cell_type": "code",
   "execution_count": null,
   "id": "592a6aee-a1a2-4139-8c15-2a03d1954263",
   "metadata": {},
   "outputs": [],
   "source": [
    "epo_spectrum = epochs.compute_psd()\n",
    "psds, freqs = epo_spectrum.get_data(return_freqs=True)\n",
    "print(f\"\\nPSDs shape: {psds.shape}, freqs shape: {freqs.shape}\")\n",
    "epo_spectrum"
   ]
  },
  {
   "cell_type": "code",
   "execution_count": null,
   "id": "3a1359a3-6c59-4c83-a980-f1e5e1a932b2",
   "metadata": {},
   "outputs": [],
   "source": [
    "evoked = epochs[\"Fractal\"].average()\n",
    "evk_spectrum = evoked.compute_psd()\n",
    "# the first 3 frequency bins for the first 4 channels:\n",
    "evk_spectrum.plot_topomap(ch_type=\"eeg\", agg_fun=np.median)\n"
   ]
  },
  {
   "cell_type": "code",
   "execution_count": null,
   "id": "2a7ece0f-97b6-4c27-9aaf-cb333e3298e6",
   "metadata": {},
   "outputs": [],
   "source": [
    "evoked = epochs[\"kaleidoscope\"].average()\n",
    "evk_spectrum = evoked.compute_psd()\n",
    "# the first 3 frequency bins for the first 4 channels:\n",
    "evk_spectrum.plot_topomap(ch_type=\"eeg\", agg_fun=np.median)\n"
   ]
  },
  {
   "cell_type": "code",
   "execution_count": null,
   "id": "250d9541-ce62-4eee-9af6-27776814928a",
   "metadata": {},
   "outputs": [],
   "source": [
    "evoked = epochs[\"HoneyComb\"].average()\n",
    "evk_spectrum = evoked.compute_psd()\n",
    "# the first 3 frequency bins for the first 4 channels:\n",
    "evk_spectrum.plot_topomap(ch_type=\"eeg\", agg_fun=np.median)\n"
   ]
  },
  {
   "cell_type": "code",
   "execution_count": null,
   "id": "4a18aa47-fe36-4da3-ba71-34b8ceb3ce56",
   "metadata": {},
   "outputs": [],
   "source": [
    "evoked = epochs[\"CubesControl\"].average()\n",
    "evk_spectrum = evoked.compute_psd()\n",
    "# the first 3 frequency bins for the first 4 channels:\n",
    "evk_spectrum.plot_topomap(ch_type=\"eeg\", agg_fun=np.median)"
   ]
  },
  {
   "cell_type": "code",
   "execution_count": null,
   "id": "c01dff2c-e896-44f5-93a8-c8269a44bfa1",
   "metadata": {},
   "outputs": [],
   "source": [
    "#time freq"
   ]
  },
  {
   "cell_type": "code",
   "execution_count": null,
   "id": "982c8d39-9845-4d95-bffc-8e2079bfc31c",
   "metadata": {},
   "outputs": [],
   "source": [
    "import matplotlib.pyplot as plt\n",
    "import numpy as np\n",
    "import mne\n",
    "from mne.datasets import somato\n",
    "from mne.time_frequency import tfr_morlet"
   ]
  },
  {
   "cell_type": "code",
   "execution_count": null,
   "id": "df3e5629-fb32-43f3-bd43-eec09c66c79f",
   "metadata": {},
   "outputs": [],
   "source": [
    "freqs = np.logspace(*np.log10([6, 35]), num=8)\n",
    "n_cycles = freqs / 2.0  # different number of cycle per frequency\n",
    "power, itc = tfr_morlet(\n",
    "    epochs[\"Fractal\"],\n",
    "    freqs=freqs,\n",
    "    n_cycles=n_cycles,\n",
    "    use_fft=True,\n",
    "    return_itc=True,\n",
    "    decim=3,\n",
    "    n_jobs=None)\n"
   ]
  },
  {
   "cell_type": "code",
   "execution_count": null,
   "id": "359b0fb0-447b-4e4f-a0c4-6a29c93d87c5",
   "metadata": {},
   "outputs": [],
   "source": [
    "raw.ch_names"
   ]
  },
  {
   "cell_type": "code",
   "execution_count": null,
   "id": "712de847-8f9c-4367-a41e-9d81a354620a",
   "metadata": {},
   "outputs": [],
   "source": [
    "power.plot_topo(baseline=None, title=\"Average power\")\n",
    "power.plot([10], baseline=None, title=power.ch_names[10])\n",
    "\n",
    "fig, axes = plt.subplots(1, 3, figsize=(7, 4), layout=\"constrained\")\n",
    "topomap_kw = dict(\n",
    "    ch_type=\"eeg\", tmin=2, tmax=4, baseline=None, show=False\n",
    ")\n",
    "plot_dict = dict(Theta = dict(fmin=4, fmax=8), Alpha=dict(fmin=8, fmax=12),  Beta=dict(fmin=13, fmax=25))\n",
    "for ax, (title, fmin_fmax) in zip(axes, plot_dict.items()):\n",
    "    power.plot_topomap(**fmin_fmax, axes=ax, **topomap_kw)\n",
    "    ax.set_title(title)"
   ]
  },
  {
   "cell_type": "code",
   "execution_count": null,
   "id": "c7e1ea61-93a9-4acd-b454-3eca9890f695",
   "metadata": {},
   "outputs": [],
   "source": [
    "#connectivity"
   ]
  },
  {
   "cell_type": "code",
   "execution_count": null,
   "id": "2623dd84-e688-4292-bc66-03bba9caca4f",
   "metadata": {},
   "outputs": [],
   "source": [
    "from mne_connectivity import spectral_connectivity_epochs\n",
    "from mne_connectivity.viz import plot_sensors_connectivity"
   ]
  },
  {
   "cell_type": "code",
   "execution_count": null,
   "id": "dc3c2680-4d9d-47c6-91cc-0867b954dc7d",
   "metadata": {},
   "outputs": [],
   "source": [
    "fmin, fmax = 0, 5\n",
    "sfreq = raw.info[\"sfreq\"]  # the sampling frequency\n",
    "tmin = 0.0  # exclude the baseline period\n",
    "epochs.load_data().pick(\"eeg\") \n",
    "con = spectral_connectivity_epochs(\n",
    "    epochs[\"Fractal\"],\n",
    "    method=\"pli\",\n",
    "    mode=\"multitaper\",\n",
    "    sfreq=sfreq,\n",
    "    fmin=fmin,\n",
    "    fmax=fmax,\n",
    "    faverage=True,\n",
    "    tmin=tmin,\n",
    "    mt_adaptive=False,\n",
    "    n_jobs=1,\n",
    ")\n",
    "\n",
    "# Now, visualize the connectivity in 3D:\n",
    "plot_sensors_connectivity(epochs.info, con.get_data(output=\"dense\")[:, :, 0])"
   ]
  },
  {
   "cell_type": "code",
   "execution_count": null,
   "id": "5f631156-6d11-4c7f-8d11-a8bb81bcf5bf",
   "metadata": {},
   "outputs": [],
   "source": [
    "fmin, fmax = 0, 5\n",
    "sfreq = raw.info[\"sfreq\"]  # the sampling frequency\n",
    "tmin = 0.0  # exclude the baseline period\n",
    "epochs.load_data().pick(\"eeg\") \n",
    "con = spectral_connectivity_epochs(\n",
    "    epochs[\"kaleidoscope\"],\n",
    "    method=\"pli\",\n",
    "    mode=\"multitaper\",\n",
    "    sfreq=sfreq,\n",
    "    fmin=fmin,\n",
    "    fmax=fmax,\n",
    "    faverage=True,\n",
    "    tmin=tmin,\n",
    "    mt_adaptive=False,\n",
    "    n_jobs=1,\n",
    ")\n",
    "\n",
    "# Now, visualize the connectivity in 3D:\n",
    "plot_sensors_connectivity(epochs.info, con.get_data(output=\"dense\")[:, :, 0])"
   ]
  },
  {
   "cell_type": "code",
   "execution_count": null,
   "id": "d34588a8-5648-4e03-8cc1-fc4d349084ee",
   "metadata": {},
   "outputs": [],
   "source": [
    "fmin, fmax = 0, 5\n",
    "sfreq = raw.info[\"sfreq\"]  # the sampling frequency\n",
    "tmin = 0.0  # exclude the baseline period\n",
    "epochs.load_data().pick(\"eeg\") \n",
    "con = spectral_connectivity_epochs(\n",
    "    epochs[\"HoneyComb\"],\n",
    "    method=\"pli\",\n",
    "    mode=\"multitaper\",\n",
    "    sfreq=sfreq,\n",
    "    fmin=fmin,\n",
    "    fmax=fmax,\n",
    "    faverage=True,\n",
    "    tmin=tmin,\n",
    "    mt_adaptive=False,\n",
    "    n_jobs=1,\n",
    ")\n",
    "\n",
    "# Now, visualize the connectivity in 3D:\n",
    "plot_sensors_connectivity(epochs.info, con.get_data(output=\"dense\")[:, :, 0])"
   ]
  },
  {
   "cell_type": "code",
   "execution_count": null,
   "id": "e96f0dff-776b-4ba6-a5ce-4e30f169df36",
   "metadata": {},
   "outputs": [],
   "source": [
    "fmin, fmax = 0, 5\n",
    "sfreq = raw.info[\"sfreq\"]  # the sampling frequency\n",
    "tmin = 0.0  # exclude the baseline period\n",
    "epochs.load_data().pick(\"eeg\") \n",
    "con = spectral_connectivity_epochs(\n",
    "    epochs[\"CubesControl\"],\n",
    "    method=\"pli\",\n",
    "    mode=\"multitaper\",\n",
    "    sfreq=sfreq,\n",
    "    fmin=fmin,\n",
    "    fmax=fmax,\n",
    "    faverage=True,\n",
    "    tmin=tmin,\n",
    "    mt_adaptive=False,\n",
    "    n_jobs=1,\n",
    ")\n",
    "\n",
    "# Now, visualize the connectivity in 3D:\n",
    "plot_sensors_connectivity(epochs.info, con.get_data(output=\"dense\")[:, :, 0])"
   ]
  },
  {
   "cell_type": "code",
   "execution_count": null,
   "id": "99e7e210-b00f-4c18-8589-d522b5e29735",
   "metadata": {},
   "outputs": [],
   "source": []
  },
  {
   "cell_type": "code",
   "execution_count": null,
   "id": "cf392117-b732-432d-8b7e-3d6bd11aa36e",
   "metadata": {},
   "outputs": [],
   "source": []
  },
  {
   "cell_type": "code",
   "execution_count": null,
   "id": "e4de4562-7ee8-45f2-a36b-287a323c9dc6",
   "metadata": {},
   "outputs": [],
   "source": []
  }
 ],
 "metadata": {
  "kernelspec": {
   "display_name": "Python 3 (ipykernel)",
   "language": "python",
   "name": "python3"
  },
  "language_info": {
   "codemirror_mode": {
    "name": "ipython",
    "version": 3
   },
   "file_extension": ".py",
   "mimetype": "text/x-python",
   "name": "python",
   "nbconvert_exporter": "python",
   "pygments_lexer": "ipython3",
   "version": "3.11.4"
  }
 },
 "nbformat": 4,
 "nbformat_minor": 5
}
