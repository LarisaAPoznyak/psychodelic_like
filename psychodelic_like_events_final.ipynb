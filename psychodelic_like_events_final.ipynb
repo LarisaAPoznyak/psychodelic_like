{
 "cells": [
  {
   "cell_type": "code",
   "execution_count": null,
   "id": "dc2efdba-8498-40bf-9ea3-c2b7e3ccb572",
   "metadata": {},
   "outputs": [],
   "source": [
    "import neurokit2 as nk\n",
    "import mne\n",
    "import os\n",
    "import os.path as op\n",
    "import numpy as np\n",
    "import pandas as  pd\n",
    "import matplotlib.pyplot as plt\n",
    "import re\n"
   ]
  },
  {
   "cell_type": "code",
   "execution_count": null,
   "id": "4cdf7a9c-32f5-405c-93b4-469f358f9504",
   "metadata": {},
   "outputs": [],
   "source": [
    "%matplotlib qt"
   ]
  },
  {
   "cell_type": "code",
   "execution_count": null,
   "id": "196db7d5-a664-4b91-b1de-dd20886b8f14",
   "metadata": {},
   "outputs": [],
   "source": [
    "#get conditions\n",
    "conditions = []\n",
    "\n",
    "# Open the file in read mode ('r')\n",
    "with open('D:/hse/psychodelic_like_experience/data_processing/log_output/fx48.txt', 'r') as file:\n",
    "    # Read the file line by line\n",
    "    for line in file:\n",
    "        # Use regular expression to extract the condition\n",
    "        match = re.match(r'^([a-zA-Z]+)', line)\n",
    "        if match:\n",
    "            # If a match is found, add the label to the list\n",
    "            conditions.append(match.group(1))\n",
    "\n",
    "# Now, 'conditions' contains the extracted conditions\n",
    "print(conditions)"
   ]
  },
  {
   "cell_type": "code",
   "execution_count": null,
   "id": "e46206bc-7ae3-4186-a21b-de5b30be7030",
   "metadata": {},
   "outputs": [],
   "source": [
    "import re\n",
    "import pandas as pd\n",
    "\n",
    "# Initialize an empty list to store data for DataFrame\n",
    "data = []\n",
    "\n",
    "# Open the file in read mode ('r')\n",
    "with open('D:/hse/psychodelic_like_experience/data_processing/log_output/fx48.txt', 'r') as file:\n",
    "    # Read the file line by line\n",
    "    for line in file:\n",
    "        # Use regular expression to extract the condition and number\n",
    "        match = re.match(r'^([a-zA-Z]+): (\\d+)$', line)\n",
    "        if match:\n",
    "            # If a match is found, extract filename, condition, and number\n",
    "            subject = 'fx48'  # Replace with the actual filename\n",
    "            label = match.group(1)\n",
    "            number = int(match.group(2))\n",
    "\n",
    "            # Add data to the list\n",
    "            data.append([subject, label, number])\n",
    "\n",
    "# Create a DataFrame from the list of data\n",
    "df = pd.DataFrame(data, columns=['Subject', 'Condition', 'Number'])\n",
    "\n",
    "# Now, 'df' contains the desired DataFrame\n",
    "print(df)\n"
   ]
  },
  {
   "cell_type": "code",
   "execution_count": null,
   "id": "c73f0179-2591-4de3-8b9c-d4235b9cf8bb",
   "metadata": {},
   "outputs": [],
   "source": [
    "df.to_csv('D:/hse/psychodelic_like_experience/data_processing/otvety/fx48.csv', index=False)\n"
   ]
  },
  {
   "cell_type": "code",
   "execution_count": null,
   "id": "ebc2b95d-75e4-4693-aae3-d3af84a33e82",
   "metadata": {},
   "outputs": [],
   "source": [
    "all_events_id = {\n",
    "    'FractalBlue': 101,\n",
    "    'FractalPurple': 102,\n",
    "    'FractalGreen': 103,\n",
    "    'FractalRed': 104,\n",
    "    'FractalYellow': 105,\n",
    "\n",
    "    'kaleidoscopeBlue': 201,\n",
    "    'kaleidoscopePurple': 202,\n",
    "    'kaleidoscopeGreen': 203,\n",
    "    'kaleidoscopeRed': 204,\n",
    "    'kaleidoscopeYellow': 205,\n",
    "\n",
    "    'CubesControlPinkBlue': 301,\n",
    "    'CubesControlPurpleGreen': 302,\n",
    "    'CubesControlBlueRed': 303,\n",
    "    'CubesControlPinkYellow': 304,\n",
    "    'CubesControlGreenOrange': 305,\n",
    "\n",
    "    'HoneyCombBluePink': 401,\n",
    "    'HoneyCombGreenPurple': 402,\n",
    "    'HoneyCombRedBlue': 403,\n",
    "    'HoneyCombOrangePink': 404,\n",
    "    'HoneyCombGreenOrange': 405\n",
    "}"
   ]
  },
  {
   "cell_type": "code",
   "execution_count": null,
   "id": "f80f3b9e-4195-48be-84f3-6d430571bc37",
   "metadata": {},
   "outputs": [],
   "source": [
    "labels = [all_events_id.get(condition, None) for condition in conditions]\n",
    "\n",
    "# Print the list of labels\n",
    "print(labels)\n"
   ]
  },
  {
   "cell_type": "code",
   "execution_count": null,
   "id": "8710e373-e250-4327-9ec4-19c35199dcca",
   "metadata": {},
   "outputs": [],
   "source": [
    "%matplotlib qt"
   ]
  },
  {
   "cell_type": "code",
   "execution_count": null,
   "id": "0196ecbb-1858-49ed-abc5-c6506b4f6926",
   "metadata": {},
   "outputs": [],
   "source": [
    "#load file\n",
    "raw = mne.io.read_raw_brainvision('C:/Users/User/Downloads/FX48.vhdr')"
   ]
  },
  {
   "cell_type": "code",
   "execution_count": null,
   "id": "6e518546-e8d3-4d0b-b45c-e777792099c7",
   "metadata": {},
   "outputs": [],
   "source": [
    "raw.plot()"
   ]
  },
  {
   "cell_type": "code",
   "execution_count": null,
   "id": "2fc80cca-b30a-474e-b371-5c7f8571f9d8",
   "metadata": {},
   "outputs": [],
   "source": [
    "mark_array = raw.pick('mark').get_data().flatten()"
   ]
  },
  {
   "cell_type": "code",
   "execution_count": null,
   "id": "42f325cf-10cc-4982-aa5a-27cbc7e37bbe",
   "metadata": {},
   "outputs": [],
   "source": [
    "events = nk.events_find(event_channel = mark_array, threshold='auto', threshold_keep='below', start_at=0, end_at=None, duration_min=0, duration_max=None, inter_min=0, discard_first=1, discard_last=1, event_labels=labels, event_conditions=conditions)"
   ]
  },
  {
   "cell_type": "code",
   "execution_count": null,
   "id": "ef4d00e1-2c95-4845-aa72-9ad60bf9c7d8",
   "metadata": {},
   "outputs": [],
   "source": [
    "events"
   ]
  },
  {
   "cell_type": "code",
   "execution_count": null,
   "id": "4cc4c516-f222-473f-a4d7-f7e9b4a64b21",
   "metadata": {},
   "outputs": [],
   "source": [
    "events_mne = np.column_stack((events['onset'], np.zeros_like(events['onset']), events['label']))\n",
    "events_mne"
   ]
  },
  {
   "cell_type": "code",
   "execution_count": null,
   "id": "4cfcf2ae-f9ad-4b68-8863-70146f545a2f",
   "metadata": {},
   "outputs": [],
   "source": [
    "mne.write_events('D:/hse/psychodelic_like_experience/data_processing/events/fx48_eve.txt', events_mne, overwrite=True, verbose=None)\n"
   ]
  },
  {
   "cell_type": "code",
   "execution_count": null,
   "id": "d1a5d9b3-fc85-4d82-bcab-cd0e5158ecfb",
   "metadata": {},
   "outputs": [],
   "source": [
    "nk.events_plot(events, mark_array)"
   ]
  },
  {
   "cell_type": "code",
   "execution_count": null,
   "id": "dde7e877-b9fb-4a78-ad54-56ba66e78070",
   "metadata": {},
   "outputs": [],
   "source": [
    "all_events_id = {\n",
    "    'FractalBlue': 101,\n",
    "    'FractalPurple': 102,\n",
    "    'FractalGreen': 103,\n",
    "    'FractalRed': 104,\n",
    "    'FractalYellow': 105,\n",
    "\n",
    "    'kaleidoscopeBlue': 201,\n",
    "    'kaleidoscopePurple': 202,\n",
    "    'kaleidoscopeGreen': 203,\n",
    "    'kaleidoscopeRed': 204,\n",
    "    'kaleidoscopeYellow': 205,\n",
    "\n",
    "    'CubesControlPinkBlue': 301,\n",
    "    'CubesControlPurpleGreen': 302,\n",
    "    'CubesControlBlueRed': 303,\n",
    "    'CubesControlPinkYellow': 304,\n",
    "    'CubesControlGreenOrange': 305,\n",
    "\n",
    "    'HoneyCombBluePink': 401,\n",
    "    'HoneyCombGreenPurple': 402,\n",
    "    'HoneyCombRedBlue': 403,\n",
    "    'HoneyCombOrangePink': 404,\n",
    "    'HoneyCombGreenOrange': 405\n",
    "}\n",
    "\n",
    "event_id = {\n",
    "    'HoneyCombGreenPurple': 0,\n",
    "    'FractalGreen': 1,\n",
    "    'FractalYellow': 2,\n",
    "    'CubesControlPinkYellow': 3,\n",
    "    'kaleidoscopePurple': 4,\n",
    "    'CubesControlBlueRed': 5,\n",
    "    'HoneyCombOrangePink': 6,\n",
    "    'CubesControlPurpleGreen': 7,\n",
    "    'FractalPurple': 8,\n",
    "    'FractalRed': 9,\n",
    "    'HoneyCombRedBlue': 10,\n",
    "    'CubesControlPinkBlue': 11,\n",
    "    'kaleidoscopeYellow': 12,\n",
    "    'kaleidoscopeGreen': 13,\n",
    "    'FractalBlue': 14,\n",
    "    'CubesControlGreenOrange': 15,\n",
    "    'kaleidoscopeBlue': 16,\n",
    "    'HoneyCombGreenOrange': 17,\n",
    "    'kaleidoscopeRed': 18,\n",
    "    'HoneyCombBluePink': 19\n",
    "}\n",
    "\n",
    "# Create a new dictionary by mapping labels to numbers\n",
    "EVENT_ID = {label: all_events_id.get(label, None) for label in event_id}\n",
    "\n",
    "# Print the merged dictionary\n",
    "print(EVENT_ID)\n"
   ]
  },
  {
   "cell_type": "code",
   "execution_count": null,
   "id": "4594a7c4-36fe-4bef-bd1a-6e554b743f93",
   "metadata": {},
   "outputs": [],
   "source": [
    "raw.plot()"
   ]
  },
  {
   "cell_type": "code",
   "execution_count": null,
   "id": "c33fad6a-25ad-466e-a9df-f78c8fd8100b",
   "metadata": {},
   "outputs": [],
   "source": []
  },
  {
   "cell_type": "code",
   "execution_count": null,
   "id": "1743bb1d-5b0e-47fb-9e8d-d4305d686594",
   "metadata": {},
   "outputs": [],
   "source": []
  },
  {
   "cell_type": "code",
   "execution_count": null,
   "id": "0bff70ae-fd81-4086-a7c4-bd7d6f9907ae",
   "metadata": {},
   "outputs": [],
   "source": []
  },
  {
   "cell_type": "code",
   "execution_count": null,
   "id": "6576cc76-9822-4773-9614-c4fc650e36ec",
   "metadata": {},
   "outputs": [],
   "source": []
  },
  {
   "cell_type": "code",
   "execution_count": null,
   "id": "b69fb35e-ce29-4dea-8a10-9abb6eaff58b",
   "metadata": {},
   "outputs": [],
   "source": []
  },
  {
   "cell_type": "code",
   "execution_count": null,
   "id": "53e01003-da93-4704-8656-aa357467dcfe",
   "metadata": {},
   "outputs": [],
   "source": []
  },
  {
   "cell_type": "code",
   "execution_count": null,
   "id": "7d31bce8-0364-42c6-b021-ecc89799ce1d",
   "metadata": {},
   "outputs": [],
   "source": []
  },
  {
   "cell_type": "code",
   "execution_count": null,
   "id": "d502d3aa-477f-4984-b76f-497944063caa",
   "metadata": {},
   "outputs": [],
   "source": []
  }
 ],
 "metadata": {
  "kernelspec": {
   "display_name": "Python 3 (ipykernel)",
   "language": "python",
   "name": "python3"
  },
  "language_info": {
   "codemirror_mode": {
    "name": "ipython",
    "version": 3
   },
   "file_extension": ".py",
   "mimetype": "text/x-python",
   "name": "python",
   "nbconvert_exporter": "python",
   "pygments_lexer": "ipython3",
   "version": "3.11.4"
  }
 },
 "nbformat": 4,
 "nbformat_minor": 5
}
