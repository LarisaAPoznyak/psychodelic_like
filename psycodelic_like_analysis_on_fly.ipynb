{
 "cells": [
  {
   "cell_type": "code",
   "execution_count": 1,
   "id": "09b44268-5f86-4c2a-b396-c5beaadba6ac",
   "metadata": {},
   "outputs": [],
   "source": [
    "import neurokit2 as nk\n",
    "import mne\n",
    "import os\n",
    "import os.path as op\n",
    "import numpy as np\n",
    "import pandas as  pd\n",
    "import matplotlib.pyplot as plt\n",
    "import re\n",
    "import numpy\n",
    "from statsmodels.stats.anova import AnovaRM\n",
    "from mne.time_frequency import tfr_morlet\n"
   ]
  },
  {
   "cell_type": "markdown",
   "id": "2593ac14-d15c-412a-9de7-f1c7f39820d1",
   "metadata": {},
   "source": [
    "**Extracting subjects_ids**"
   ]
  },
  {
   "cell_type": "code",
   "execution_count": 2,
   "id": "7e2e027d-894e-4819-b018-a070a0a5fd8c",
   "metadata": {},
   "outputs": [
    {
     "name": "stdout",
     "output_type": "stream",
     "text": [
      "['AS32', 'DE21', 'DF23', 'EE89', 'FK24', 'fx48', 'GF87', 'GG88', 'RD56', 'TR90']\n"
     ]
    }
   ],
   "source": [
    "subjects  = [folder for folder in os.listdir('D:\\hse\\psychodelic_like_experience\\subjects') if os.path.isdir(os.path.join('D:\\hse\\psychodelic_like_experience\\subjects', folder))]\n",
    "print(subjects)"
   ]
  },
  {
   "cell_type": "markdown",
   "id": "2c575916-eca4-4eab-98e6-b72c939a7706",
   "metadata": {},
   "source": [
    "**Extracting answers**"
   ]
  },
  {
   "cell_type": "code",
   "execution_count": null,
   "id": "4886b9b4-1aad-4d0e-a706-eacfc37e72f3",
   "metadata": {},
   "outputs": [],
   "source": [
    "for subject in subjects:\n",
    "    data = []\n",
    "\n",
    "    # Open the file in read mode ('r')\n",
    "    with open(f'D:/hse/psychodelic_like_experience/subjects/{subject}/{subject}.txt', 'r') as file:\n",
    "    # Read the file line by line\n",
    "        for line in file:\n",
    "            # Use regular expression to extract the condition and number\n",
    "            match = re.match(r'^([a-zA-Z]+): (\\d+)$', line)\n",
    "            if match:\n",
    "                # If a match is found, extract filename, condition, and number\n",
    "                subj = subject  # Replace with the actual filename\n",
    "                label = match.group(1)\n",
    "                number = int(match.group(2))\n",
    "\n",
    "                # Add data to the list\n",
    "                data.append([subject, label, number])\n",
    "\n",
    "    # Create a DataFrame from the list of data\n",
    "    df = pd.DataFrame(data, columns=['Subject', 'Condition', 'Number'])\n",
    "    df.to_csv(f'D:/hse/psychodelic_like_experience/data_processing/otvety/{subject}.csv', index=False)\n",
    "\n",
    "    # Now, 'df' contains the desired DataFrame\n",
    "    print(df)\n"
   ]
  },
  {
   "cell_type": "markdown",
   "id": "1e8cba1b-bb97-4ed4-9976-f977ced91b18",
   "metadata": {},
   "source": [
    "**Working with events**"
   ]
  },
  {
   "cell_type": "code",
   "execution_count": 3,
   "id": "b89ccfcf-20bb-4412-be6b-421e1f530e77",
   "metadata": {},
   "outputs": [
    {
     "name": "stdout",
     "output_type": "stream",
     "text": [
      "{'Fractal/Blue': 101, 'Fractal/Purple': 102, 'Fractal/Green': 103, 'Fractal/Red': 104, 'Fractal/Yellow': 105, 'kaleidoscope/Blue': 201, 'kaleidoscope/Purple': 202, 'kaleidoscope/Green': 203, 'kaleidoscope/Red': 204, 'kaleidoscope/Yellow': 205, 'CubesControl/PinkBlue': 301, 'CubesControl/PurpleGreen': 302, 'CubesControl/BlueRed': 303, 'CubesControl/PinkYellow': 304, 'CubesControl/GreenOrange': 305, 'HoneyComb/BluePink': 401, 'HoneyComb/GreenPurple': 402, 'HoneyComb/RedBlue': 403, 'HoneyComb/OrangePink': 404, 'HoneyComb/GreenOrange': 405}\n"
     ]
    }
   ],
   "source": [
    "#dictionary with codes\n",
    "all_events_id = {\n",
    "    'FractalBlue': 101,\n",
    "    'FractalPurple': 102,\n",
    "    'FractalGreen': 103,\n",
    "    'FractalRed': 104,\n",
    "    'FractalYellow': 105,\n",
    "\n",
    "    'kaleidoscopeBlue': 201,\n",
    "    'kaleidoscopePurple': 202,\n",
    "    'kaleidoscopeGreen': 203,\n",
    "    'kaleidoscopeRed': 204,\n",
    "    'kaleidoscopeYellow': 205,\n",
    "\n",
    "    'CubesControlPinkBlue': 301,\n",
    "    'CubesControlPurpleGreen': 302,\n",
    "    'CubesControlBlueRed': 303,\n",
    "    'CubesControlPinkYellow': 304,\n",
    "    'CubesControlGreenOrange': 305,\n",
    "\n",
    "    'HoneyCombBluePink': 401,\n",
    "    'HoneyCombGreenPurple': 402,\n",
    "    'HoneyCombRedBlue': 403,\n",
    "    'HoneyCombOrangePink': 404,\n",
    "    'HoneyCombGreenOrange': 405\n",
    "}\n",
    "event_id = {}\n",
    "\n",
    "for key, value in all_events_id.items():\n",
    "    new_key = key.replace(\"HoneyComb\", \"HoneyComb/\")\\\n",
    "                  .replace(\"kaleidoscope\", \"kaleidoscope/\")\\\n",
    "                  .replace(\"Fractal\", \"Fractal/\")\\\n",
    "                  .replace(\"CubesControl\", \"CubesControl/\")\n",
    "\n",
    "    event_id[new_key] = value\n",
    "\n",
    "print(event_id)"
   ]
  },
  {
   "cell_type": "code",
   "execution_count": 289,
   "id": "934135ac-fe16-4b67-903b-f75b83445cd3",
   "metadata": {},
   "outputs": [
    {
     "name": "stdout",
     "output_type": "stream",
     "text": [
      "['FractalBlue', 'CubesControlGreenOrange', 'HoneyCombBluePink', 'kaleidoscopeRed', 'HoneyCombGreenPurple', 'CubesControlPinkBlue', 'kaleidoscopeBlue', 'FractalYellow', 'HoneyCombOrangePink', 'FractalPurple', 'HoneyCombRedBlue', 'FractalGreen', 'kaleidoscopePurple', 'CubesControlPinkYellow', 'HoneyCombGreenOrange', 'kaleidoscopeYellow', 'FractalRed', 'CubesControlPurpleGreen', 'kaleidoscopeGreen', 'CubesControlBlueRed']\n",
      "[101, 305, 401, 204, 402, 301, 201, 105, 404, 102, 403, 103, 202, 304, 405, 205, 104, 302, 203, 303]\n",
      "Extracting parameters from D:/hse/psychodelic_like_experience/subjects/AS32/AS32.vhdr...\n",
      "Setting channel info structure...\n",
      "Reading 0 ... 797474  =      0.000 ...  1594.948 secs...\n",
      "Overwriting existing file.\n",
      "['FractalBlue', 'kaleidoscopeRed', 'FractalRed', 'kaleidoscopeGreen', 'FractalYellow', 'HoneyCombRedBlue', 'CubesControlPurpleGreen', 'kaleidoscopePurple', 'HoneyCombGreenPurple', 'CubesControlGreenOrange', 'kaleidoscopeYellow', 'FractalPurple', 'CubesControlPinkYellow', 'HoneyCombGreenOrange', 'FractalGreen', 'CubesControlBlueRed', 'kaleidoscopeBlue', 'CubesControlPinkBlue', 'HoneyCombOrangePink', 'HoneyCombBluePink']\n",
      "[101, 204, 104, 203, 105, 403, 302, 202, 402, 305, 205, 102, 304, 405, 103, 303, 201, 301, 404, 401]\n",
      "Extracting parameters from D:/hse/psychodelic_like_experience/subjects/DE21/DE21.vhdr...\n",
      "Setting channel info structure...\n",
      "Reading 0 ... 802799  =      0.000 ...  1605.598 secs...\n",
      "Overwriting existing file.\n",
      "['FractalBlue', 'CubesControlPinkBlue', 'kaleidoscopeBlue', 'CubesControlBlueRed', 'kaleidoscopeGreen', 'HoneyCombGreenPurple', 'FractalRed', 'HoneyCombBluePink', 'FractalYellow', 'HoneyCombRedBlue', 'CubesControlPurpleGreen', 'kaleidoscopeYellow', 'HoneyCombOrangePink', 'FractalPurple', 'kaleidoscopePurple', 'CubesControlPinkYellow', 'FractalGreen', 'CubesControlGreenOrange', 'kaleidoscopeRed', 'HoneyCombGreenOrange']\n",
      "[101, 301, 201, 303, 203, 402, 104, 401, 105, 403, 302, 205, 404, 102, 202, 304, 103, 305, 204, 405]\n",
      "Extracting parameters from D:/hse/psychodelic_like_experience/subjects/DF23/DF23.vhdr...\n",
      "Setting channel info structure...\n",
      "Reading 0 ... 784499  =      0.000 ...  1568.998 secs...\n"
     ]
    },
    {
     "ename": "KeyboardInterrupt",
     "evalue": "",
     "output_type": "error",
     "traceback": [
      "\u001b[1;31m---------------------------------------------------------------------------\u001b[0m",
      "\u001b[1;31mKeyboardInterrupt\u001b[0m                         Traceback (most recent call last)",
      "Cell \u001b[1;32mIn[289], line 20\u001b[0m\n\u001b[0;32m     18\u001b[0m \u001b[38;5;66;03m# Print the list of labels\u001b[39;00m\n\u001b[0;32m     19\u001b[0m \u001b[38;5;28mprint\u001b[39m(labels)\n\u001b[1;32m---> 20\u001b[0m raw \u001b[38;5;241m=\u001b[39m \u001b[43mmne\u001b[49m\u001b[38;5;241;43m.\u001b[39;49m\u001b[43mio\u001b[49m\u001b[38;5;241;43m.\u001b[39;49m\u001b[43mread_raw_brainvision\u001b[49m\u001b[43m(\u001b[49m\u001b[38;5;124;43mf\u001b[39;49m\u001b[38;5;124;43m'\u001b[39;49m\u001b[38;5;124;43mD:/hse/psychodelic_like_experience/subjects/\u001b[39;49m\u001b[38;5;132;43;01m{\u001b[39;49;00m\u001b[43msubject\u001b[49m\u001b[38;5;132;43;01m}\u001b[39;49;00m\u001b[38;5;124;43m/\u001b[39;49m\u001b[38;5;132;43;01m{\u001b[39;49;00m\u001b[43msubject\u001b[49m\u001b[38;5;132;43;01m}\u001b[39;49;00m\u001b[38;5;124;43m.vhdr\u001b[39;49m\u001b[38;5;124;43m'\u001b[39;49m\u001b[43m,\u001b[49m\u001b[43m \u001b[49m\u001b[43mpreload\u001b[49m\u001b[43m \u001b[49m\u001b[38;5;241;43m=\u001b[39;49m\u001b[43m \u001b[49m\u001b[38;5;28;43;01mTrue\u001b[39;49;00m\u001b[43m)\u001b[49m\n\u001b[0;32m     21\u001b[0m mark_array \u001b[38;5;241m=\u001b[39m raw\u001b[38;5;241m.\u001b[39mpick(\u001b[38;5;124m'\u001b[39m\u001b[38;5;124mmark\u001b[39m\u001b[38;5;124m'\u001b[39m)\u001b[38;5;241m.\u001b[39mget_data()\u001b[38;5;241m.\u001b[39mflatten()\n\u001b[0;32m     22\u001b[0m events \u001b[38;5;241m=\u001b[39m nk\u001b[38;5;241m.\u001b[39mevents_find(event_channel \u001b[38;5;241m=\u001b[39m mark_array, threshold\u001b[38;5;241m=\u001b[39m\u001b[38;5;124m'\u001b[39m\u001b[38;5;124mauto\u001b[39m\u001b[38;5;124m'\u001b[39m, threshold_keep\u001b[38;5;241m=\u001b[39m\u001b[38;5;124m'\u001b[39m\u001b[38;5;124mbelow\u001b[39m\u001b[38;5;124m'\u001b[39m, start_at\u001b[38;5;241m=\u001b[39m\u001b[38;5;241m0\u001b[39m, end_at\u001b[38;5;241m=\u001b[39m\u001b[38;5;28;01mNone\u001b[39;00m, duration_min\u001b[38;5;241m=\u001b[39m\u001b[38;5;241m0\u001b[39m, duration_max\u001b[38;5;241m=\u001b[39m\u001b[38;5;28;01mNone\u001b[39;00m, inter_min\u001b[38;5;241m=\u001b[39m\u001b[38;5;241m0\u001b[39m, discard_first\u001b[38;5;241m=\u001b[39m\u001b[38;5;241m1\u001b[39m, discard_last\u001b[38;5;241m=\u001b[39m\u001b[38;5;241m1\u001b[39m, event_labels\u001b[38;5;241m=\u001b[39mlabels, event_conditions\u001b[38;5;241m=\u001b[39mconditions)\n",
      "File \u001b[1;32m~\\AppData\\Local\\Programs\\Python\\Python311\\Lib\\site-packages\\mne\\io\\brainvision\\brainvision.py:956\u001b[0m, in \u001b[0;36mread_raw_brainvision\u001b[1;34m(vhdr_fname, eog, misc, scale, preload, verbose)\u001b[0m\n\u001b[0;32m    916\u001b[0m \u001b[38;5;129m@fill_doc\u001b[39m\n\u001b[0;32m    917\u001b[0m \u001b[38;5;28;01mdef\u001b[39;00m \u001b[38;5;21mread_raw_brainvision\u001b[39m(\n\u001b[0;32m    918\u001b[0m     vhdr_fname,\n\u001b[1;32m   (...)\u001b[0m\n\u001b[0;32m    923\u001b[0m     verbose\u001b[38;5;241m=\u001b[39m\u001b[38;5;28;01mNone\u001b[39;00m,\n\u001b[0;32m    924\u001b[0m ):\n\u001b[0;32m    925\u001b[0m \u001b[38;5;250m    \u001b[39m\u001b[38;5;124;03m\"\"\"Reader for Brain Vision EEG file.\u001b[39;00m\n\u001b[0;32m    926\u001b[0m \n\u001b[0;32m    927\u001b[0m \u001b[38;5;124;03m    Parameters\u001b[39;00m\n\u001b[1;32m   (...)\u001b[0m\n\u001b[0;32m    954\u001b[0m \u001b[38;5;124;03m    mne.io.Raw : Documentation of attributes and methods of RawBrainVision.\u001b[39;00m\n\u001b[0;32m    955\u001b[0m \u001b[38;5;124;03m    \"\"\"\u001b[39;00m\n\u001b[1;32m--> 956\u001b[0m     \u001b[38;5;28;01mreturn\u001b[39;00m \u001b[43mRawBrainVision\u001b[49m\u001b[43m(\u001b[49m\n\u001b[0;32m    957\u001b[0m \u001b[43m        \u001b[49m\u001b[43mvhdr_fname\u001b[49m\u001b[38;5;241;43m=\u001b[39;49m\u001b[43mvhdr_fname\u001b[49m\u001b[43m,\u001b[49m\n\u001b[0;32m    958\u001b[0m \u001b[43m        \u001b[49m\u001b[43meog\u001b[49m\u001b[38;5;241;43m=\u001b[39;49m\u001b[43meog\u001b[49m\u001b[43m,\u001b[49m\n\u001b[0;32m    959\u001b[0m \u001b[43m        \u001b[49m\u001b[43mmisc\u001b[49m\u001b[38;5;241;43m=\u001b[39;49m\u001b[43mmisc\u001b[49m\u001b[43m,\u001b[49m\n\u001b[0;32m    960\u001b[0m \u001b[43m        \u001b[49m\u001b[43mscale\u001b[49m\u001b[38;5;241;43m=\u001b[39;49m\u001b[43mscale\u001b[49m\u001b[43m,\u001b[49m\n\u001b[0;32m    961\u001b[0m \u001b[43m        \u001b[49m\u001b[43mpreload\u001b[49m\u001b[38;5;241;43m=\u001b[39;49m\u001b[43mpreload\u001b[49m\u001b[43m,\u001b[49m\n\u001b[0;32m    962\u001b[0m \u001b[43m        \u001b[49m\u001b[43mverbose\u001b[49m\u001b[38;5;241;43m=\u001b[39;49m\u001b[43mverbose\u001b[49m\u001b[43m,\u001b[49m\n\u001b[0;32m    963\u001b[0m \u001b[43m    \u001b[49m\u001b[43m)\u001b[49m\n",
      "File \u001b[1;32m<decorator-gen-246>:12\u001b[0m, in \u001b[0;36m__init__\u001b[1;34m(self, vhdr_fname, eog, misc, scale, preload, verbose)\u001b[0m\n",
      "File \u001b[1;32m~\\AppData\\Local\\Programs\\Python\\Python311\\Lib\\site-packages\\mne\\io\\brainvision\\brainvision.py:112\u001b[0m, in \u001b[0;36mRawBrainVision.__init__\u001b[1;34m(self, vhdr_fname, eog, misc, scale, preload, verbose)\u001b[0m\n\u001b[0;32m    110\u001b[0m orig_format \u001b[38;5;241m=\u001b[39m \u001b[38;5;124m\"\u001b[39m\u001b[38;5;124msingle\u001b[39m\u001b[38;5;124m\"\u001b[39m \u001b[38;5;28;01mif\u001b[39;00m \u001b[38;5;28misinstance\u001b[39m(fmt, \u001b[38;5;28mdict\u001b[39m) \u001b[38;5;28;01melse\u001b[39;00m fmt\n\u001b[0;32m    111\u001b[0m raw_extras \u001b[38;5;241m=\u001b[39m \u001b[38;5;28mdict\u001b[39m(offsets\u001b[38;5;241m=\u001b[39moffsets, fmt\u001b[38;5;241m=\u001b[39mfmt, order\u001b[38;5;241m=\u001b[39morder, n_samples\u001b[38;5;241m=\u001b[39mn_samples)\n\u001b[1;32m--> 112\u001b[0m \u001b[38;5;28;43msuper\u001b[39;49m\u001b[43m(\u001b[49m\u001b[43mRawBrainVision\u001b[49m\u001b[43m,\u001b[49m\u001b[43m \u001b[49m\u001b[38;5;28;43mself\u001b[39;49m\u001b[43m)\u001b[49m\u001b[38;5;241;43m.\u001b[39;49m\u001b[38;5;21;43m__init__\u001b[39;49m\u001b[43m(\u001b[49m\n\u001b[0;32m    113\u001b[0m \u001b[43m    \u001b[49m\u001b[43minfo\u001b[49m\u001b[43m,\u001b[49m\n\u001b[0;32m    114\u001b[0m \u001b[43m    \u001b[49m\u001b[43mlast_samps\u001b[49m\u001b[38;5;241;43m=\u001b[39;49m\u001b[43m[\u001b[49m\u001b[43mn_samples\u001b[49m\u001b[43m \u001b[49m\u001b[38;5;241;43m-\u001b[39;49m\u001b[43m \u001b[49m\u001b[38;5;241;43m1\u001b[39;49m\u001b[43m]\u001b[49m\u001b[43m,\u001b[49m\n\u001b[0;32m    115\u001b[0m \u001b[43m    \u001b[49m\u001b[43mfilenames\u001b[49m\u001b[38;5;241;43m=\u001b[39;49m\u001b[43m[\u001b[49m\u001b[43mdata_fname\u001b[49m\u001b[43m]\u001b[49m\u001b[43m,\u001b[49m\n\u001b[0;32m    116\u001b[0m \u001b[43m    \u001b[49m\u001b[43morig_format\u001b[49m\u001b[38;5;241;43m=\u001b[39;49m\u001b[43morig_format\u001b[49m\u001b[43m,\u001b[49m\n\u001b[0;32m    117\u001b[0m \u001b[43m    \u001b[49m\u001b[43mpreload\u001b[49m\u001b[38;5;241;43m=\u001b[39;49m\u001b[43mpreload\u001b[49m\u001b[43m,\u001b[49m\n\u001b[0;32m    118\u001b[0m \u001b[43m    \u001b[49m\u001b[43mverbose\u001b[49m\u001b[38;5;241;43m=\u001b[39;49m\u001b[43mverbose\u001b[49m\u001b[43m,\u001b[49m\n\u001b[0;32m    119\u001b[0m \u001b[43m    \u001b[49m\u001b[43mraw_extras\u001b[49m\u001b[38;5;241;43m=\u001b[39;49m\u001b[43m[\u001b[49m\u001b[43mraw_extras\u001b[49m\u001b[43m]\u001b[49m\u001b[43m,\u001b[49m\n\u001b[0;32m    120\u001b[0m \u001b[43m    \u001b[49m\u001b[43morig_units\u001b[49m\u001b[38;5;241;43m=\u001b[39;49m\u001b[43morig_units\u001b[49m\u001b[43m,\u001b[49m\n\u001b[0;32m    121\u001b[0m \u001b[43m\u001b[49m\u001b[43m)\u001b[49m\n\u001b[0;32m    123\u001b[0m \u001b[38;5;28mself\u001b[39m\u001b[38;5;241m.\u001b[39mset_montage(montage)\n\u001b[0;32m    125\u001b[0m settings, cfg, cinfo, _ \u001b[38;5;241m=\u001b[39m _aux_hdr_info(hdr_fname)\n",
      "File \u001b[1;32m<decorator-gen-228>:12\u001b[0m, in \u001b[0;36m__init__\u001b[1;34m(self, info, preload, first_samps, last_samps, filenames, raw_extras, orig_format, dtype, buffer_size_sec, orig_units, verbose)\u001b[0m\n",
      "File \u001b[1;32m~\\AppData\\Local\\Programs\\Python\\Python311\\Lib\\site-packages\\mne\\io\\base.py:299\u001b[0m, in \u001b[0;36mBaseRaw.__init__\u001b[1;34m(self, info, preload, first_samps, last_samps, filenames, raw_extras, orig_format, dtype, buffer_size_sec, orig_units, verbose)\u001b[0m\n\u001b[0;32m    297\u001b[0m \u001b[38;5;66;03m# If we have True or a string, actually do the preloading\u001b[39;00m\n\u001b[0;32m    298\u001b[0m \u001b[38;5;28;01mif\u001b[39;00m load_from_disk:\n\u001b[1;32m--> 299\u001b[0m     \u001b[38;5;28;43mself\u001b[39;49m\u001b[38;5;241;43m.\u001b[39;49m\u001b[43m_preload_data\u001b[49m\u001b[43m(\u001b[49m\u001b[43mpreload\u001b[49m\u001b[43m)\u001b[49m\n\u001b[0;32m    300\u001b[0m \u001b[38;5;28mself\u001b[39m\u001b[38;5;241m.\u001b[39m_init_kwargs \u001b[38;5;241m=\u001b[39m _get_argvalues()\n",
      "File \u001b[1;32m~\\AppData\\Local\\Programs\\Python\\Python311\\Lib\\site-packages\\mne\\io\\base.py:594\u001b[0m, in \u001b[0;36mBaseRaw._preload_data\u001b[1;34m(self, preload)\u001b[0m\n\u001b[0;32m    589\u001b[0m     data_buffer \u001b[38;5;241m=\u001b[39m \u001b[38;5;28;01mNone\u001b[39;00m\n\u001b[0;32m    590\u001b[0m logger\u001b[38;5;241m.\u001b[39minfo(\n\u001b[0;32m    591\u001b[0m     \u001b[38;5;124m\"\u001b[39m\u001b[38;5;124mReading \u001b[39m\u001b[38;5;132;01m%d\u001b[39;00m\u001b[38;5;124m ... \u001b[39m\u001b[38;5;132;01m%d\u001b[39;00m\u001b[38;5;124m  =  \u001b[39m\u001b[38;5;132;01m%9.3f\u001b[39;00m\u001b[38;5;124m ... \u001b[39m\u001b[38;5;132;01m%9.3f\u001b[39;00m\u001b[38;5;124m secs...\u001b[39m\u001b[38;5;124m\"\u001b[39m\n\u001b[0;32m    592\u001b[0m     \u001b[38;5;241m%\u001b[39m (\u001b[38;5;241m0\u001b[39m, \u001b[38;5;28mlen\u001b[39m(\u001b[38;5;28mself\u001b[39m\u001b[38;5;241m.\u001b[39mtimes) \u001b[38;5;241m-\u001b[39m \u001b[38;5;241m1\u001b[39m, \u001b[38;5;241m0.0\u001b[39m, \u001b[38;5;28mself\u001b[39m\u001b[38;5;241m.\u001b[39mtimes[\u001b[38;5;241m-\u001b[39m\u001b[38;5;241m1\u001b[39m])\n\u001b[0;32m    593\u001b[0m )\n\u001b[1;32m--> 594\u001b[0m \u001b[38;5;28mself\u001b[39m\u001b[38;5;241m.\u001b[39m_data \u001b[38;5;241m=\u001b[39m \u001b[38;5;28;43mself\u001b[39;49m\u001b[38;5;241;43m.\u001b[39;49m\u001b[43m_read_segment\u001b[49m\u001b[43m(\u001b[49m\u001b[43mdata_buffer\u001b[49m\u001b[38;5;241;43m=\u001b[39;49m\u001b[43mdata_buffer\u001b[49m\u001b[43m)\u001b[49m\n\u001b[0;32m    595\u001b[0m \u001b[38;5;28;01massert\u001b[39;00m \u001b[38;5;28mlen\u001b[39m(\u001b[38;5;28mself\u001b[39m\u001b[38;5;241m.\u001b[39m_data) \u001b[38;5;241m==\u001b[39m \u001b[38;5;28mself\u001b[39m\u001b[38;5;241m.\u001b[39minfo[\u001b[38;5;124m\"\u001b[39m\u001b[38;5;124mnchan\u001b[39m\u001b[38;5;124m\"\u001b[39m]\n\u001b[0;32m    596\u001b[0m \u001b[38;5;28mself\u001b[39m\u001b[38;5;241m.\u001b[39mpreload \u001b[38;5;241m=\u001b[39m \u001b[38;5;28;01mTrue\u001b[39;00m\n",
      "File \u001b[1;32m<decorator-gen-230>:12\u001b[0m, in \u001b[0;36m_read_segment\u001b[1;34m(self, start, stop, sel, data_buffer, verbose)\u001b[0m\n",
      "File \u001b[1;32m~\\AppData\\Local\\Programs\\Python\\Python311\\Lib\\site-packages\\mne\\io\\base.py:470\u001b[0m, in \u001b[0;36mBaseRaw._read_segment\u001b[1;34m(***failed resolving arguments***)\u001b[0m\n\u001b[0;32m    468\u001b[0m     \u001b[38;5;66;03m# reindex back to original file\u001b[39;00m\n\u001b[0;32m    469\u001b[0m     orig_idx \u001b[38;5;241m=\u001b[39m _convert_slice(\u001b[38;5;28mself\u001b[39m\u001b[38;5;241m.\u001b[39m_read_picks[fi][need_idx])\n\u001b[1;32m--> 470\u001b[0m     \u001b[43m_ReadSegmentFileProtector\u001b[49m\u001b[43m(\u001b[49m\u001b[38;5;28;43mself\u001b[39;49m\u001b[43m)\u001b[49m\u001b[38;5;241;43m.\u001b[39;49m\u001b[43m_read_segment_file\u001b[49m\u001b[43m(\u001b[49m\n\u001b[0;32m    471\u001b[0m \u001b[43m        \u001b[49m\u001b[43mdata\u001b[49m\u001b[43m[\u001b[49m\u001b[43m:\u001b[49m\u001b[43m,\u001b[49m\u001b[43m \u001b[49m\u001b[43mthis_sl\u001b[49m\u001b[43m]\u001b[49m\u001b[43m,\u001b[49m\n\u001b[0;32m    472\u001b[0m \u001b[43m        \u001b[49m\u001b[43morig_idx\u001b[49m\u001b[43m,\u001b[49m\n\u001b[0;32m    473\u001b[0m \u001b[43m        \u001b[49m\u001b[43mfi\u001b[49m\u001b[43m,\u001b[49m\n\u001b[0;32m    474\u001b[0m \u001b[43m        \u001b[49m\u001b[38;5;28;43mint\u001b[39;49m\u001b[43m(\u001b[49m\u001b[43mstart_file\u001b[49m\u001b[43m)\u001b[49m\u001b[43m,\u001b[49m\n\u001b[0;32m    475\u001b[0m \u001b[43m        \u001b[49m\u001b[38;5;28;43mint\u001b[39;49m\u001b[43m(\u001b[49m\u001b[43mstop_file\u001b[49m\u001b[43m)\u001b[49m\u001b[43m,\u001b[49m\n\u001b[0;32m    476\u001b[0m \u001b[43m        \u001b[49m\u001b[43mcals\u001b[49m\u001b[43m,\u001b[49m\n\u001b[0;32m    477\u001b[0m \u001b[43m        \u001b[49m\u001b[43mmult\u001b[49m\u001b[43m,\u001b[49m\n\u001b[0;32m    478\u001b[0m \u001b[43m    \u001b[49m\u001b[43m)\u001b[49m\n\u001b[0;32m    479\u001b[0m     offset \u001b[38;5;241m+\u001b[39m\u001b[38;5;241m=\u001b[39m n_read\n\u001b[0;32m    480\u001b[0m \u001b[38;5;28;01mreturn\u001b[39;00m data\n",
      "File \u001b[1;32m~\\AppData\\Local\\Programs\\Python\\Python311\\Lib\\site-packages\\mne\\io\\base.py:2526\u001b[0m, in \u001b[0;36m_ReadSegmentFileProtector._read_segment_file\u001b[1;34m(self, data, idx, fi, start, stop, cals, mult)\u001b[0m\n\u001b[0;32m   2525\u001b[0m \u001b[38;5;28;01mdef\u001b[39;00m \u001b[38;5;21m_read_segment_file\u001b[39m(\u001b[38;5;28mself\u001b[39m, data, idx, fi, start, stop, cals, mult):\n\u001b[1;32m-> 2526\u001b[0m     \u001b[38;5;28;01mreturn\u001b[39;00m \u001b[38;5;28;43mself\u001b[39;49m\u001b[38;5;241;43m.\u001b[39;49m\u001b[43m__raw\u001b[49m\u001b[38;5;241;43m.\u001b[39;49m\u001b[38;5;18;43m__class__\u001b[39;49m\u001b[38;5;241;43m.\u001b[39;49m\u001b[43m_read_segment_file\u001b[49m\u001b[43m(\u001b[49m\n\u001b[0;32m   2527\u001b[0m \u001b[43m        \u001b[49m\u001b[38;5;28;43mself\u001b[39;49m\u001b[43m,\u001b[49m\u001b[43m \u001b[49m\u001b[43mdata\u001b[49m\u001b[43m,\u001b[49m\u001b[43m \u001b[49m\u001b[43midx\u001b[49m\u001b[43m,\u001b[49m\u001b[43m \u001b[49m\u001b[43mfi\u001b[49m\u001b[43m,\u001b[49m\u001b[43m \u001b[49m\u001b[43mstart\u001b[49m\u001b[43m,\u001b[49m\u001b[43m \u001b[49m\u001b[43mstop\u001b[49m\u001b[43m,\u001b[49m\u001b[43m \u001b[49m\u001b[43mcals\u001b[49m\u001b[43m,\u001b[49m\u001b[43m \u001b[49m\u001b[43mmult\u001b[49m\n\u001b[0;32m   2528\u001b[0m \u001b[43m    \u001b[49m\u001b[43m)\u001b[49m\n",
      "File \u001b[1;32m~\\AppData\\Local\\Programs\\Python\\Python311\\Lib\\site-packages\\mne\\io\\brainvision\\brainvision.py:146\u001b[0m, in \u001b[0;36mRawBrainVision._read_segment_file\u001b[1;34m(self, data, idx, fi, start, stop, cals, mult)\u001b[0m\n\u001b[0;32m    144\u001b[0m \u001b[38;5;28;01melif\u001b[39;00m \u001b[38;5;28misinstance\u001b[39m(fmt, \u001b[38;5;28mstr\u001b[39m):\n\u001b[0;32m    145\u001b[0m     dtype \u001b[38;5;241m=\u001b[39m _fmt_dtype_dict[fmt]\n\u001b[1;32m--> 146\u001b[0m     \u001b[43m_read_segments_file\u001b[49m\u001b[43m(\u001b[49m\n\u001b[0;32m    147\u001b[0m \u001b[43m        \u001b[49m\u001b[38;5;28;43mself\u001b[39;49m\u001b[43m,\u001b[49m\n\u001b[0;32m    148\u001b[0m \u001b[43m        \u001b[49m\u001b[43mdata\u001b[49m\u001b[43m,\u001b[49m\n\u001b[0;32m    149\u001b[0m \u001b[43m        \u001b[49m\u001b[43midx\u001b[49m\u001b[43m,\u001b[49m\n\u001b[0;32m    150\u001b[0m \u001b[43m        \u001b[49m\u001b[43mfi\u001b[49m\u001b[43m,\u001b[49m\n\u001b[0;32m    151\u001b[0m \u001b[43m        \u001b[49m\u001b[43mstart\u001b[49m\u001b[43m,\u001b[49m\n\u001b[0;32m    152\u001b[0m \u001b[43m        \u001b[49m\u001b[43mstop\u001b[49m\u001b[43m,\u001b[49m\n\u001b[0;32m    153\u001b[0m \u001b[43m        \u001b[49m\u001b[43mcals\u001b[49m\u001b[43m,\u001b[49m\n\u001b[0;32m    154\u001b[0m \u001b[43m        \u001b[49m\u001b[43mmult\u001b[49m\u001b[43m,\u001b[49m\n\u001b[0;32m    155\u001b[0m \u001b[43m        \u001b[49m\u001b[43mdtype\u001b[49m\u001b[38;5;241;43m=\u001b[39;49m\u001b[43mdtype\u001b[49m\u001b[43m,\u001b[49m\n\u001b[0;32m    156\u001b[0m \u001b[43m        \u001b[49m\u001b[43mn_channels\u001b[49m\u001b[38;5;241;43m=\u001b[39;49m\u001b[43mn_data_ch\u001b[49m\u001b[43m,\u001b[49m\n\u001b[0;32m    157\u001b[0m \u001b[43m    \u001b[49m\u001b[43m)\u001b[49m\n\u001b[0;32m    158\u001b[0m \u001b[38;5;28;01melse\u001b[39;00m:\n\u001b[0;32m    159\u001b[0m     offsets \u001b[38;5;241m=\u001b[39m \u001b[38;5;28mself\u001b[39m\u001b[38;5;241m.\u001b[39m_raw_extras[fi][\u001b[38;5;124m\"\u001b[39m\u001b[38;5;124moffsets\u001b[39m\u001b[38;5;124m\"\u001b[39m]\n",
      "File \u001b[1;32m~\\AppData\\Local\\Programs\\Python\\Python311\\Lib\\site-packages\\mne\\io\\utils.py:237\u001b[0m, in \u001b[0;36m_read_segments_file\u001b[1;34m(raw, data, idx, fi, start, stop, cals, mult, dtype, n_channels, offset, trigger_ch)\u001b[0m\n\u001b[0;32m    235\u001b[0m \u001b[38;5;28;01mfor\u001b[39;00m sample_start \u001b[38;5;129;01min\u001b[39;00m np\u001b[38;5;241m.\u001b[39marange(\u001b[38;5;241m0\u001b[39m, data_left, block_size) \u001b[38;5;241m/\u001b[39m\u001b[38;5;241m/\u001b[39m n_channels:\n\u001b[0;32m    236\u001b[0m     count \u001b[38;5;241m=\u001b[39m \u001b[38;5;28mmin\u001b[39m(block_size, data_left \u001b[38;5;241m-\u001b[39m sample_start \u001b[38;5;241m*\u001b[39m n_channels)\n\u001b[1;32m--> 237\u001b[0m     block \u001b[38;5;241m=\u001b[39m \u001b[43mnp\u001b[49m\u001b[38;5;241;43m.\u001b[39;49m\u001b[43mfromfile\u001b[49m\u001b[43m(\u001b[49m\u001b[43mfid\u001b[49m\u001b[43m,\u001b[49m\u001b[43m \u001b[49m\u001b[43mdtype\u001b[49m\u001b[43m,\u001b[49m\u001b[43m \u001b[49m\u001b[43mcount\u001b[49m\u001b[43m)\u001b[49m\n\u001b[0;32m    238\u001b[0m     \u001b[38;5;28;01mif\u001b[39;00m block\u001b[38;5;241m.\u001b[39msize \u001b[38;5;241m!=\u001b[39m count:\n\u001b[0;32m    239\u001b[0m         \u001b[38;5;28;01mraise\u001b[39;00m \u001b[38;5;167;01mRuntimeError\u001b[39;00m(\n\u001b[0;32m    240\u001b[0m             \u001b[38;5;124m\"\u001b[39m\u001b[38;5;124mIncorrect number of samples (\u001b[39m\u001b[38;5;132;01m%s\u001b[39;00m\u001b[38;5;124m != \u001b[39m\u001b[38;5;132;01m%s\u001b[39;00m\u001b[38;5;124m), \u001b[39m\u001b[38;5;124m\"\u001b[39m\n\u001b[0;32m    241\u001b[0m             \u001b[38;5;124m\"\u001b[39m\u001b[38;5;124mplease report this error to MNE-Python \u001b[39m\u001b[38;5;124m\"\u001b[39m\n\u001b[0;32m    242\u001b[0m             \u001b[38;5;124m\"\u001b[39m\u001b[38;5;124mdevelopers\u001b[39m\u001b[38;5;124m\"\u001b[39m \u001b[38;5;241m%\u001b[39m (block\u001b[38;5;241m.\u001b[39msize, count)\n\u001b[0;32m    243\u001b[0m         )\n",
      "\u001b[1;31mKeyboardInterrupt\u001b[0m: "
     ]
    }
   ],
   "source": [
    "for subject in subjects:\n",
    "    conditions = []\n",
    "\n",
    "    # Open the file in read mode ('r')\n",
    "    with open(f'D:/hse/psychodelic_like_experience/subjects/{subject}/{subject}.txt', 'r') as file:\n",
    "        # Read the file line by line\n",
    "        for line in file:\n",
    "            # Use regular expression to extract the condition\n",
    "            match = re.match(r'^([a-zA-Z]+)', line)\n",
    "            if match:\n",
    "                # If a match is found, add the label to the list\n",
    "                conditions.append(match.group(1))\n",
    "\n",
    "    # Now, 'conditions' contains the extracted conditions\n",
    "    print(conditions)\n",
    "    labels = [all_events_id.get(condition, None) for condition in conditions]\n",
    "\n",
    "    # Print the list of labels\n",
    "    print(labels)\n",
    "    raw = mne.io.read_raw_brainvision(f'D:/hse/psychodelic_like_experience/subjects/{subject}/{subject}.vhdr', preload = True)\n",
    "    mark_array = raw.pick('mark').get_data().flatten()\n",
    "    events = nk.events_find(event_channel = mark_array, threshold='auto', threshold_keep='below', start_at=0, end_at=None, duration_min=0, duration_max=None, inter_min=0, discard_first=1, discard_last=1, event_labels=labels, event_conditions=conditions)\n",
    "    events\n",
    "    events_mne = np.column_stack((events['onset'], np.zeros_like(events['onset']), events['label']))\n",
    "    events_mne\n",
    "    mne.write_events(f'D:/hse/psychodelic_like_experience/data_processing/events/{subject}_eve.txt', events_mne, overwrite=True, verbose=None)\n",
    "    #nk.events_plot(events, mark_array)\n",
    "    "
   ]
  },
  {
   "cell_type": "markdown",
   "id": "9f77af5d-fac5-4c64-b54f-8abc7433ad7e",
   "metadata": {},
   "source": [
    "**Now we can create epochs...**"
   ]
  },
  {
   "cell_type": "code",
   "execution_count": 4,
   "id": "39466a60-0ed6-4f97-8d6e-4d6f87f4948e",
   "metadata": {},
   "outputs": [
    {
     "name": "stdout",
     "output_type": "stream",
     "text": [
      "Opening raw data file D:/hse/psychodelic_like_experience/data_processing/eeg_cleaned_ica/AS32cleaned_raw.fif...\n",
      "    Read a total of 2 projection items:\n",
      "        EOG-eeg--0.200-0.200-PCA-01 (1 x 28)  idle\n",
      "        EOG-eeg--0.200-0.200-PCA-02 (1 x 28)  idle\n",
      "    Range : 0 ... 797474 =      0.000 ...  1594.948 secs\n",
      "Ready.\n",
      "Reading 0 ... 797474  =      0.000 ...  1594.948 secs...\n",
      "Using qt as 2D backend.\n",
      "Channels marked as bad:\n",
      "['FC2']\n",
      "Interpolating bad channels\n",
      "    Automatic origin fit: head of radius 94.6 mm\n",
      "Computing interpolation matrix from 27 sensor positions\n",
      "Interpolating 1 sensors\n",
      "Not setting metadata\n",
      "20 matching events found\n",
      "No baseline correction applied\n",
      "Created an SSP operator (subspace dimension = 2)\n",
      "2 projection items activated\n",
      "Using data from preloaded Raw for 20 events and 12501 original time points ...\n",
      "0 bad epochs dropped\n"
     ]
    },
    {
     "name": "stderr",
     "output_type": "stream",
     "text": [
      "C:\\Users\\User\\AppData\\Local\\Temp\\ipykernel_9716\\386509325.py:9: FutureWarning: The current default events=None is deprecated and will change to events=True in MNE 1.6. Set events=False to suppress this warning.\n",
      "  epochs.plot( n_epochs=1, n_channels=20, title=None, show=True, decim='auto', block = True)\n"
     ]
    },
    {
     "name": "stdout",
     "output_type": "stream",
     "text": [
      "Dropped 12 epochs: 1, 2, 7, 10, 11, 12, 13, 14, 15, 16, 17, 19\n",
      "The following epochs were marked as bad and are dropped:\n",
      "[1, 2, 7, 10, 11, 12, 13, 14, 15, 16, 17, 19]\n",
      "Channels marked as bad:\n",
      "['FC2']\n",
      "Opening raw data file D:/hse/psychodelic_like_experience/data_processing/eeg_cleaned_ica/DE21cleaned_raw.fif...\n",
      "    Read a total of 2 projection items:\n",
      "        EOG-eeg--0.200-0.200-PCA-01 (1 x 28)  idle\n",
      "        EOG-eeg--0.200-0.200-PCA-02 (1 x 28)  idle\n",
      "    Range : 0 ... 802799 =      0.000 ...  1605.598 secs\n",
      "Ready.\n",
      "Reading 0 ... 802799  =      0.000 ...  1605.598 secs...\n"
     ]
    },
    {
     "name": "stderr",
     "output_type": "stream",
     "text": [
      "C:\\Users\\User\\AppData\\Local\\Programs\\Python\\Python311\\Lib\\site-packages\\pyqtgraph\\GraphicsScene\\GraphicsScene.py:378: RuntimeWarning: Projection vector 'EOG-eeg--0.200-0.200-PCA-02' has been reduced to 88.89% of its original magnitude by subselecting 27/28 of the original channels. If the ignored channels were bad during SSP computation, we recommend recomputing proj (via compute_proj_raw or related functions) with the bad channels properly marked, because computing SSP with bad channels present in the data but unmarked is dangerous (it can bias the PCA used by SSP). On the other hand, if you know that all channels were good during SSP computation, you can safely use info.normalize_proj() to suppress this warning during projection.\n",
      "  item.mouseClickEvent(ev)\n",
      "C:\\Users\\User\\AppData\\Local\\Programs\\Python\\Python311\\Lib\\site-packages\\pyqtgraph\\GraphicsScene\\GraphicsScene.py:378: RuntimeWarning: Projection vector 'EOG-eeg--0.200-0.200-PCA-02' has been reduced to 88.89% of its original magnitude by subselecting 27/28 of the original channels. If the ignored channels were bad during SSP computation, we recommend recomputing proj (via compute_proj_raw or related functions) with the bad channels properly marked, because computing SSP with bad channels present in the data but unmarked is dangerous (it can bias the PCA used by SSP). On the other hand, if you know that all channels were good during SSP computation, you can safely use info.normalize_proj() to suppress this warning during projection.\n",
      "  item.mouseClickEvent(ev)\n",
      "C:\\Users\\User\\AppData\\Local\\Programs\\Python\\Python311\\Lib\\site-packages\\pyqtgraph\\GraphicsScene\\GraphicsScene.py:378: RuntimeWarning: Projection vector 'EOG-eeg--0.200-0.200-PCA-02' has been reduced to 63.87% of its original magnitude by subselecting 26/28 of the original channels. If the ignored channels were bad during SSP computation, we recommend recomputing proj (via compute_proj_raw or related functions) with the bad channels properly marked, because computing SSP with bad channels present in the data but unmarked is dangerous (it can bias the PCA used by SSP). On the other hand, if you know that all channels were good during SSP computation, you can safely use info.normalize_proj() to suppress this warning during projection.\n",
      "  item.mouseClickEvent(ev)\n",
      "C:\\Users\\User\\AppData\\Local\\Programs\\Python\\Python311\\Lib\\site-packages\\pyqtgraph\\GraphicsScene\\GraphicsScene.py:378: RuntimeWarning: Projection vector 'EOG-eeg--0.200-0.200-PCA-02' has been reduced to 63.87% of its original magnitude by subselecting 26/28 of the original channels. If the ignored channels were bad during SSP computation, we recommend recomputing proj (via compute_proj_raw or related functions) with the bad channels properly marked, because computing SSP with bad channels present in the data but unmarked is dangerous (it can bias the PCA used by SSP). On the other hand, if you know that all channels were good during SSP computation, you can safely use info.normalize_proj() to suppress this warning during projection.\n",
      "  item.mouseClickEvent(ev)\n"
     ]
    },
    {
     "name": "stdout",
     "output_type": "stream",
     "text": [
      "Channels marked as bad:\n",
      "['Fp1', 'Fp2']\n",
      "Interpolating bad channels\n",
      "    Automatic origin fit: head of radius 94.6 mm\n",
      "Computing interpolation matrix from 26 sensor positions\n",
      "Interpolating 2 sensors\n",
      "Not setting metadata\n",
      "20 matching events found\n",
      "No baseline correction applied\n",
      "Created an SSP operator (subspace dimension = 2)\n",
      "2 projection items activated\n",
      "Using data from preloaded Raw for 20 events and 12501 original time points ...\n",
      "0 bad epochs dropped\n"
     ]
    },
    {
     "name": "stderr",
     "output_type": "stream",
     "text": [
      "C:\\Users\\User\\AppData\\Local\\Temp\\ipykernel_9716\\386509325.py:8: RuntimeWarning: Projection vector 'EOG-eeg--0.200-0.200-PCA-02' has been reduced to 63.87% of its original magnitude by subselecting 26/28 of the original channels. If the ignored channels were bad during SSP computation, we recommend recomputing proj (via compute_proj_raw or related functions) with the bad channels properly marked, because computing SSP with bad channels present in the data but unmarked is dangerous (it can bias the PCA used by SSP). On the other hand, if you know that all channels were good during SSP computation, you can safely use info.normalize_proj() to suppress this warning during projection.\n",
      "  epochs = mne.Epochs(raw, events, event_id, tmin=-5, tmax=20, baseline=None, preload = True)\n",
      "C:\\Users\\User\\AppData\\Local\\Temp\\ipykernel_9716\\386509325.py:9: FutureWarning: The current default events=None is deprecated and will change to events=True in MNE 1.6. Set events=False to suppress this warning.\n",
      "  epochs.plot( n_epochs=1, n_channels=20, title=None, show=True, decim='auto', block = True)\n",
      "C:\\Users\\User\\AppData\\Local\\Temp\\ipykernel_9716\\386509325.py:9: RuntimeWarning: Projection vector 'EOG-eeg--0.200-0.200-PCA-02' has been reduced to 63.87% of its original magnitude by subselecting 26/28 of the original channels. If the ignored channels were bad during SSP computation, we recommend recomputing proj (via compute_proj_raw or related functions) with the bad channels properly marked, because computing SSP with bad channels present in the data but unmarked is dangerous (it can bias the PCA used by SSP). On the other hand, if you know that all channels were good during SSP computation, you can safely use info.normalize_proj() to suppress this warning during projection.\n",
      "  epochs.plot( n_epochs=1, n_channels=20, title=None, show=True, decim='auto', block = True)\n"
     ]
    },
    {
     "name": "stdout",
     "output_type": "stream",
     "text": [
      "Dropped 1 epoch: 9\n",
      "The following epochs were marked as bad and are dropped:\n",
      "[9]\n",
      "Channels marked as bad:\n",
      "['Fp1', 'Fp2']\n",
      "Opening raw data file D:/hse/psychodelic_like_experience/data_processing/eeg_cleaned_ica/DF23cleaned_raw.fif...\n",
      "    Read a total of 2 projection items:\n",
      "        EOG-eeg--0.200-0.200-PCA-01 (1 x 28)  idle\n",
      "        EOG-eeg--0.200-0.200-PCA-02 (1 x 28)  idle\n",
      "    Range : 0 ... 784499 =      0.000 ...  1568.998 secs\n",
      "Ready.\n",
      "Reading 0 ... 784499  =      0.000 ...  1568.998 secs...\n",
      "Channels marked as bad:\n",
      "none\n",
      "Not setting metadata\n",
      "20 matching events found\n",
      "No baseline correction applied\n",
      "Created an SSP operator (subspace dimension = 2)\n",
      "2 projection items activated\n",
      "Using data from preloaded Raw for 20 events and 12501 original time points ...\n",
      "0 bad epochs dropped\n"
     ]
    },
    {
     "name": "stderr",
     "output_type": "stream",
     "text": [
      "C:\\Users\\User\\AppData\\Local\\Temp\\ipykernel_9716\\386509325.py:6: RuntimeWarning: No bad channels to interpolate. Doing nothing...\n",
      "  raw = raw.copy().interpolate_bads(reset_bads=False)\n",
      "C:\\Users\\User\\AppData\\Local\\Temp\\ipykernel_9716\\386509325.py:9: FutureWarning: The current default events=None is deprecated and will change to events=True in MNE 1.6. Set events=False to suppress this warning.\n",
      "  epochs.plot( n_epochs=1, n_channels=20, title=None, show=True, decim='auto', block = True)\n"
     ]
    },
    {
     "name": "stdout",
     "output_type": "stream",
     "text": [
      "Dropped 8 epochs: 0, 3, 5, 7, 9, 16, 17, 18\n",
      "The following epochs were marked as bad and are dropped:\n",
      "[0, 3, 5, 7, 9, 16, 17, 18]\n",
      "Channels marked as bad:\n",
      "none\n",
      "Opening raw data file D:/hse/psychodelic_like_experience/data_processing/eeg_cleaned_ica/EE89cleaned_raw.fif...\n",
      "    Read a total of 2 projection items:\n",
      "        EOG-eeg--0.200-0.200-PCA-01 (1 x 28)  idle\n",
      "        EOG-eeg--0.200-0.200-PCA-02 (1 x 28)  idle\n",
      "    Range : 0 ... 819849 =      0.000 ...  1639.698 secs\n",
      "Ready.\n",
      "Reading 0 ... 819849  =      0.000 ...  1639.698 secs...\n",
      "Channels marked as bad:\n",
      "none\n",
      "Not setting metadata\n",
      "20 matching events found\n",
      "No baseline correction applied\n",
      "Created an SSP operator (subspace dimension = 2)\n",
      "2 projection items activated\n",
      "Using data from preloaded Raw for 20 events and 12501 original time points ...\n",
      "0 bad epochs dropped\n"
     ]
    },
    {
     "name": "stderr",
     "output_type": "stream",
     "text": [
      "C:\\Users\\User\\AppData\\Local\\Temp\\ipykernel_9716\\386509325.py:6: RuntimeWarning: No bad channels to interpolate. Doing nothing...\n",
      "  raw = raw.copy().interpolate_bads(reset_bads=False)\n",
      "C:\\Users\\User\\AppData\\Local\\Temp\\ipykernel_9716\\386509325.py:9: FutureWarning: The current default events=None is deprecated and will change to events=True in MNE 1.6. Set events=False to suppress this warning.\n",
      "  epochs.plot( n_epochs=1, n_channels=20, title=None, show=True, decim='auto', block = True)\n"
     ]
    },
    {
     "name": "stdout",
     "output_type": "stream",
     "text": [
      "Dropped 2 epochs: 0, 19\n",
      "The following epochs were marked as bad and are dropped:\n",
      "[0, 19]\n",
      "Channels marked as bad:\n",
      "none\n",
      "Opening raw data file D:/hse/psychodelic_like_experience/data_processing/eeg_cleaned_ica/FK24cleaned_raw.fif...\n",
      "    Read a total of 2 projection items:\n",
      "        EOG-eeg--0.200-0.200-PCA-01 (1 x 28)  idle\n",
      "        EOG-eeg--0.200-0.200-PCA-02 (1 x 28)  idle\n",
      "    Range : 0 ... 792724 =      0.000 ...  1585.448 secs\n",
      "Ready.\n",
      "Reading 0 ... 792724  =      0.000 ...  1585.448 secs...\n"
     ]
    },
    {
     "name": "stderr",
     "output_type": "stream",
     "text": [
      "C:\\Users\\User\\AppData\\Local\\Programs\\Python\\Python311\\Lib\\site-packages\\pyqtgraph\\GraphicsScene\\GraphicsScene.py:378: RuntimeWarning: Projection vector 'EOG-eeg--0.200-0.200-PCA-02' has been reduced to 74.35% of its original magnitude by subselecting 27/28 of the original channels. If the ignored channels were bad during SSP computation, we recommend recomputing proj (via compute_proj_raw or related functions) with the bad channels properly marked, because computing SSP with bad channels present in the data but unmarked is dangerous (it can bias the PCA used by SSP). On the other hand, if you know that all channels were good during SSP computation, you can safely use info.normalize_proj() to suppress this warning during projection.\n",
      "  item.mouseClickEvent(ev)\n",
      "C:\\Users\\User\\AppData\\Local\\Programs\\Python\\Python311\\Lib\\site-packages\\pyqtgraph\\GraphicsScene\\GraphicsScene.py:378: RuntimeWarning: Projection vector 'EOG-eeg--0.200-0.200-PCA-02' has been reduced to 74.35% of its original magnitude by subselecting 27/28 of the original channels. If the ignored channels were bad during SSP computation, we recommend recomputing proj (via compute_proj_raw or related functions) with the bad channels properly marked, because computing SSP with bad channels present in the data but unmarked is dangerous (it can bias the PCA used by SSP). On the other hand, if you know that all channels were good during SSP computation, you can safely use info.normalize_proj() to suppress this warning during projection.\n",
      "  item.mouseClickEvent(ev)\n"
     ]
    },
    {
     "name": "stdout",
     "output_type": "stream",
     "text": [
      "Channels marked as bad:\n",
      "['C4']\n",
      "Interpolating bad channels\n",
      "    Automatic origin fit: head of radius 94.6 mm\n",
      "Computing interpolation matrix from 27 sensor positions\n",
      "Interpolating 1 sensors\n",
      "Not setting metadata\n",
      "20 matching events found\n",
      "No baseline correction applied\n",
      "Created an SSP operator (subspace dimension = 2)\n",
      "2 projection items activated\n",
      "Using data from preloaded Raw for 20 events and 12501 original time points ...\n",
      "0 bad epochs dropped\n"
     ]
    },
    {
     "name": "stderr",
     "output_type": "stream",
     "text": [
      "C:\\Users\\User\\AppData\\Local\\Temp\\ipykernel_9716\\386509325.py:8: RuntimeWarning: Projection vector 'EOG-eeg--0.200-0.200-PCA-02' has been reduced to 74.35% of its original magnitude by subselecting 27/28 of the original channels. If the ignored channels were bad during SSP computation, we recommend recomputing proj (via compute_proj_raw or related functions) with the bad channels properly marked, because computing SSP with bad channels present in the data but unmarked is dangerous (it can bias the PCA used by SSP). On the other hand, if you know that all channels were good during SSP computation, you can safely use info.normalize_proj() to suppress this warning during projection.\n",
      "  epochs = mne.Epochs(raw, events, event_id, tmin=-5, tmax=20, baseline=None, preload = True)\n",
      "C:\\Users\\User\\AppData\\Local\\Temp\\ipykernel_9716\\386509325.py:9: FutureWarning: The current default events=None is deprecated and will change to events=True in MNE 1.6. Set events=False to suppress this warning.\n",
      "  epochs.plot( n_epochs=1, n_channels=20, title=None, show=True, decim='auto', block = True)\n",
      "C:\\Users\\User\\AppData\\Local\\Temp\\ipykernel_9716\\386509325.py:9: RuntimeWarning: Projection vector 'EOG-eeg--0.200-0.200-PCA-02' has been reduced to 74.35% of its original magnitude by subselecting 27/28 of the original channels. If the ignored channels were bad during SSP computation, we recommend recomputing proj (via compute_proj_raw or related functions) with the bad channels properly marked, because computing SSP with bad channels present in the data but unmarked is dangerous (it can bias the PCA used by SSP). On the other hand, if you know that all channels were good during SSP computation, you can safely use info.normalize_proj() to suppress this warning during projection.\n",
      "  epochs.plot( n_epochs=1, n_channels=20, title=None, show=True, decim='auto', block = True)\n"
     ]
    },
    {
     "name": "stdout",
     "output_type": "stream",
     "text": [
      "Dropped 10 epochs: 0, 1, 6, 7, 9, 10, 11, 12, 18, 19\n",
      "The following epochs were marked as bad and are dropped:\n",
      "[0, 1, 6, 7, 9, 10, 11, 12, 18, 19]\n",
      "Channels marked as bad:\n",
      "['C4']\n",
      "Opening raw data file D:/hse/psychodelic_like_experience/data_processing/eeg_cleaned_ica/fx48cleaned_raw.fif...\n",
      "    Read a total of 2 projection items:\n",
      "        EOG-eeg--0.200-0.200-PCA-01 (1 x 28)  idle\n",
      "        EOG-eeg--0.200-0.200-PCA-02 (1 x 28)  idle\n",
      "    Range : 0 ... 781799 =      0.000 ...  1563.598 secs\n",
      "Ready.\n",
      "Reading 0 ... 781799  =      0.000 ...  1563.598 secs...\n"
     ]
    },
    {
     "name": "stderr",
     "output_type": "stream",
     "text": [
      "C:\\Users\\User\\AppData\\Local\\Programs\\Python\\Python311\\Lib\\site-packages\\pyqtgraph\\GraphicsScene\\GraphicsScene.py:378: RuntimeWarning: Projection vector 'EOG-eeg--0.200-0.200-PCA-01' has been reduced to 86.93% of its original magnitude by subselecting 26/28 of the original channels. If the ignored channels were bad during SSP computation, we recommend recomputing proj (via compute_proj_raw or related functions) with the bad channels properly marked, because computing SSP with bad channels present in the data but unmarked is dangerous (it can bias the PCA used by SSP). On the other hand, if you know that all channels were good during SSP computation, you can safely use info.normalize_proj() to suppress this warning during projection.\n",
      "  item.mouseClickEvent(ev)\n",
      "C:\\Users\\User\\AppData\\Local\\Programs\\Python\\Python311\\Lib\\site-packages\\pyqtgraph\\GraphicsScene\\GraphicsScene.py:378: RuntimeWarning: Projection vector 'EOG-eeg--0.200-0.200-PCA-01' has been reduced to 86.93% of its original magnitude by subselecting 26/28 of the original channels. If the ignored channels were bad during SSP computation, we recommend recomputing proj (via compute_proj_raw or related functions) with the bad channels properly marked, because computing SSP with bad channels present in the data but unmarked is dangerous (it can bias the PCA used by SSP). On the other hand, if you know that all channels were good during SSP computation, you can safely use info.normalize_proj() to suppress this warning during projection.\n",
      "  item.mouseClickEvent(ev)\n",
      "C:\\Users\\User\\AppData\\Local\\Programs\\Python\\Python311\\Lib\\site-packages\\pyqtgraph\\GraphicsScene\\GraphicsScene.py:378: RuntimeWarning: Projection vector 'EOG-eeg--0.200-0.200-PCA-01' has been reduced to 73.57% of its original magnitude by subselecting 25/28 of the original channels. If the ignored channels were bad during SSP computation, we recommend recomputing proj (via compute_proj_raw or related functions) with the bad channels properly marked, because computing SSP with bad channels present in the data but unmarked is dangerous (it can bias the PCA used by SSP). On the other hand, if you know that all channels were good during SSP computation, you can safely use info.normalize_proj() to suppress this warning during projection.\n",
      "  item.mouseClickEvent(ev)\n",
      "C:\\Users\\User\\AppData\\Local\\Programs\\Python\\Python311\\Lib\\site-packages\\pyqtgraph\\GraphicsScene\\GraphicsScene.py:378: RuntimeWarning: Projection vector 'EOG-eeg--0.200-0.200-PCA-01' has been reduced to 73.57% of its original magnitude by subselecting 25/28 of the original channels. If the ignored channels were bad during SSP computation, we recommend recomputing proj (via compute_proj_raw or related functions) with the bad channels properly marked, because computing SSP with bad channels present in the data but unmarked is dangerous (it can bias the PCA used by SSP). On the other hand, if you know that all channels were good during SSP computation, you can safely use info.normalize_proj() to suppress this warning during projection.\n",
      "  item.mouseClickEvent(ev)\n"
     ]
    },
    {
     "name": "stdout",
     "output_type": "stream",
     "text": [
      "Channels marked as bad:\n",
      "['T7', 'Fp1', 'Fp2']\n",
      "Interpolating bad channels\n",
      "    Automatic origin fit: head of radius 94.6 mm\n",
      "Computing interpolation matrix from 25 sensor positions\n",
      "Interpolating 3 sensors\n",
      "Not setting metadata\n",
      "20 matching events found\n",
      "No baseline correction applied\n",
      "Created an SSP operator (subspace dimension = 2)\n",
      "2 projection items activated\n",
      "Using data from preloaded Raw for 20 events and 12501 original time points ...\n",
      "0 bad epochs dropped\n"
     ]
    },
    {
     "name": "stderr",
     "output_type": "stream",
     "text": [
      "C:\\Users\\User\\AppData\\Local\\Temp\\ipykernel_9716\\386509325.py:8: RuntimeWarning: Projection vector 'EOG-eeg--0.200-0.200-PCA-01' has been reduced to 73.57% of its original magnitude by subselecting 25/28 of the original channels. If the ignored channels were bad during SSP computation, we recommend recomputing proj (via compute_proj_raw or related functions) with the bad channels properly marked, because computing SSP with bad channels present in the data but unmarked is dangerous (it can bias the PCA used by SSP). On the other hand, if you know that all channels were good during SSP computation, you can safely use info.normalize_proj() to suppress this warning during projection.\n",
      "  epochs = mne.Epochs(raw, events, event_id, tmin=-5, tmax=20, baseline=None, preload = True)\n",
      "C:\\Users\\User\\AppData\\Local\\Temp\\ipykernel_9716\\386509325.py:9: FutureWarning: The current default events=None is deprecated and will change to events=True in MNE 1.6. Set events=False to suppress this warning.\n",
      "  epochs.plot( n_epochs=1, n_channels=20, title=None, show=True, decim='auto', block = True)\n",
      "C:\\Users\\User\\AppData\\Local\\Temp\\ipykernel_9716\\386509325.py:9: RuntimeWarning: Projection vector 'EOG-eeg--0.200-0.200-PCA-01' has been reduced to 73.57% of its original magnitude by subselecting 25/28 of the original channels. If the ignored channels were bad during SSP computation, we recommend recomputing proj (via compute_proj_raw or related functions) with the bad channels properly marked, because computing SSP with bad channels present in the data but unmarked is dangerous (it can bias the PCA used by SSP). On the other hand, if you know that all channels were good during SSP computation, you can safely use info.normalize_proj() to suppress this warning during projection.\n",
      "  epochs.plot( n_epochs=1, n_channels=20, title=None, show=True, decim='auto', block = True)\n"
     ]
    },
    {
     "name": "stdout",
     "output_type": "stream",
     "text": [
      "Dropped 6 epochs: 0, 1, 10, 12, 15, 16\n",
      "The following epochs were marked as bad and are dropped:\n",
      "[0, 1, 10, 12, 15, 16]\n",
      "Channels marked as bad:\n",
      "['T7', 'Fp1', 'Fp2']\n",
      "Opening raw data file D:/hse/psychodelic_like_experience/data_processing/eeg_cleaned_ica/GF87cleaned_raw.fif...\n",
      "    Read a total of 2 projection items:\n",
      "        EOG-eeg--0.200-0.200-PCA-01 (1 x 28)  idle\n",
      "        EOG-eeg--0.200-0.200-PCA-02 (1 x 28)  idle\n",
      "    Range : 0 ... 791174 =      0.000 ...  1582.348 secs\n",
      "Ready.\n",
      "Reading 0 ... 791174  =      0.000 ...  1582.348 secs...\n"
     ]
    },
    {
     "name": "stderr",
     "output_type": "stream",
     "text": [
      "C:\\Users\\User\\AppData\\Local\\Programs\\Python\\Python311\\Lib\\site-packages\\pyqtgraph\\GraphicsScene\\GraphicsScene.py:378: RuntimeWarning: Projection vector 'EOG-eeg--0.200-0.200-PCA-01' has been reduced to 83.13% of its original magnitude by subselecting 27/28 of the original channels. If the ignored channels were bad during SSP computation, we recommend recomputing proj (via compute_proj_raw or related functions) with the bad channels properly marked, because computing SSP with bad channels present in the data but unmarked is dangerous (it can bias the PCA used by SSP). On the other hand, if you know that all channels were good during SSP computation, you can safely use info.normalize_proj() to suppress this warning during projection.\n",
      "  item.mouseClickEvent(ev)\n",
      "C:\\Users\\User\\AppData\\Local\\Programs\\Python\\Python311\\Lib\\site-packages\\pyqtgraph\\GraphicsScene\\GraphicsScene.py:378: RuntimeWarning: Projection vector 'EOG-eeg--0.200-0.200-PCA-01' has been reduced to 83.13% of its original magnitude by subselecting 27/28 of the original channels. If the ignored channels were bad during SSP computation, we recommend recomputing proj (via compute_proj_raw or related functions) with the bad channels properly marked, because computing SSP with bad channels present in the data but unmarked is dangerous (it can bias the PCA used by SSP). On the other hand, if you know that all channels were good during SSP computation, you can safely use info.normalize_proj() to suppress this warning during projection.\n",
      "  item.mouseClickEvent(ev)\n",
      "C:\\Users\\User\\AppData\\Local\\Programs\\Python\\Python311\\Lib\\site-packages\\pyqtgraph\\GraphicsScene\\GraphicsScene.py:378: RuntimeWarning: Projection vector 'EOG-eeg--0.200-0.200-PCA-01' has been reduced to 60.05% of its original magnitude by subselecting 26/28 of the original channels. If the ignored channels were bad during SSP computation, we recommend recomputing proj (via compute_proj_raw or related functions) with the bad channels properly marked, because computing SSP with bad channels present in the data but unmarked is dangerous (it can bias the PCA used by SSP). On the other hand, if you know that all channels were good during SSP computation, you can safely use info.normalize_proj() to suppress this warning during projection.\n",
      "  item.mouseClickEvent(ev)\n",
      "C:\\Users\\User\\AppData\\Local\\Programs\\Python\\Python311\\Lib\\site-packages\\pyqtgraph\\GraphicsScene\\GraphicsScene.py:378: RuntimeWarning: Projection vector 'EOG-eeg--0.200-0.200-PCA-01' has been reduced to 60.05% of its original magnitude by subselecting 26/28 of the original channels. If the ignored channels were bad during SSP computation, we recommend recomputing proj (via compute_proj_raw or related functions) with the bad channels properly marked, because computing SSP with bad channels present in the data but unmarked is dangerous (it can bias the PCA used by SSP). On the other hand, if you know that all channels were good during SSP computation, you can safely use info.normalize_proj() to suppress this warning during projection.\n",
      "  item.mouseClickEvent(ev)\n"
     ]
    },
    {
     "name": "stdout",
     "output_type": "stream",
     "text": [
      "Channels marked as bad:\n",
      "['Fp2', 'Fp1']\n",
      "Interpolating bad channels\n",
      "    Automatic origin fit: head of radius 94.6 mm\n",
      "Computing interpolation matrix from 26 sensor positions\n",
      "Interpolating 2 sensors\n",
      "Not setting metadata\n",
      "20 matching events found\n",
      "No baseline correction applied\n",
      "Created an SSP operator (subspace dimension = 2)\n",
      "2 projection items activated\n",
      "Using data from preloaded Raw for 20 events and 12501 original time points ...\n",
      "0 bad epochs dropped\n"
     ]
    },
    {
     "name": "stderr",
     "output_type": "stream",
     "text": [
      "C:\\Users\\User\\AppData\\Local\\Temp\\ipykernel_9716\\386509325.py:8: RuntimeWarning: Projection vector 'EOG-eeg--0.200-0.200-PCA-01' has been reduced to 60.05% of its original magnitude by subselecting 26/28 of the original channels. If the ignored channels were bad during SSP computation, we recommend recomputing proj (via compute_proj_raw or related functions) with the bad channels properly marked, because computing SSP with bad channels present in the data but unmarked is dangerous (it can bias the PCA used by SSP). On the other hand, if you know that all channels were good during SSP computation, you can safely use info.normalize_proj() to suppress this warning during projection.\n",
      "  epochs = mne.Epochs(raw, events, event_id, tmin=-5, tmax=20, baseline=None, preload = True)\n",
      "C:\\Users\\User\\AppData\\Local\\Temp\\ipykernel_9716\\386509325.py:9: FutureWarning: The current default events=None is deprecated and will change to events=True in MNE 1.6. Set events=False to suppress this warning.\n",
      "  epochs.plot( n_epochs=1, n_channels=20, title=None, show=True, decim='auto', block = True)\n",
      "C:\\Users\\User\\AppData\\Local\\Temp\\ipykernel_9716\\386509325.py:9: RuntimeWarning: Projection vector 'EOG-eeg--0.200-0.200-PCA-01' has been reduced to 60.05% of its original magnitude by subselecting 26/28 of the original channels. If the ignored channels were bad during SSP computation, we recommend recomputing proj (via compute_proj_raw or related functions) with the bad channels properly marked, because computing SSP with bad channels present in the data but unmarked is dangerous (it can bias the PCA used by SSP). On the other hand, if you know that all channels were good during SSP computation, you can safely use info.normalize_proj() to suppress this warning during projection.\n",
      "  epochs.plot( n_epochs=1, n_channels=20, title=None, show=True, decim='auto', block = True)\n"
     ]
    },
    {
     "name": "stdout",
     "output_type": "stream",
     "text": [
      "Dropped 7 epochs: 11, 12, 13, 15, 17, 18, 19\n",
      "The following epochs were marked as bad and are dropped:\n",
      "[11, 12, 13, 15, 17, 18, 19]\n",
      "Channels marked as bad:\n",
      "['Fp2', 'Fp1']\n",
      "Opening raw data file D:/hse/psychodelic_like_experience/data_processing/eeg_cleaned_ica/GG88cleaned_raw.fif...\n",
      "    Read a total of 2 projection items:\n",
      "        EOG-eeg--0.200-0.200-PCA-01 (1 x 28)  idle\n",
      "        EOG-eeg--0.200-0.200-PCA-02 (1 x 28)  idle\n",
      "    Range : 0 ... 805749 =      0.000 ...  1611.498 secs\n",
      "Ready.\n",
      "Reading 0 ... 805749  =      0.000 ...  1611.498 secs...\n",
      "Channels marked as bad:\n",
      "none\n",
      "Not setting metadata\n",
      "20 matching events found\n",
      "No baseline correction applied\n",
      "Created an SSP operator (subspace dimension = 2)\n",
      "2 projection items activated\n",
      "Using data from preloaded Raw for 20 events and 12501 original time points ...\n",
      "0 bad epochs dropped\n"
     ]
    },
    {
     "name": "stderr",
     "output_type": "stream",
     "text": [
      "C:\\Users\\User\\AppData\\Local\\Temp\\ipykernel_9716\\386509325.py:6: RuntimeWarning: No bad channels to interpolate. Doing nothing...\n",
      "  raw = raw.copy().interpolate_bads(reset_bads=False)\n",
      "C:\\Users\\User\\AppData\\Local\\Temp\\ipykernel_9716\\386509325.py:9: FutureWarning: The current default events=None is deprecated and will change to events=True in MNE 1.6. Set events=False to suppress this warning.\n",
      "  epochs.plot( n_epochs=1, n_channels=20, title=None, show=True, decim='auto', block = True)\n"
     ]
    },
    {
     "name": "stdout",
     "output_type": "stream",
     "text": [
      "Dropped 0 epochs: \n",
      "The following epochs were marked as bad and are dropped:\n",
      "[]\n",
      "Channels marked as bad:\n",
      "none\n",
      "Opening raw data file D:/hse/psychodelic_like_experience/data_processing/eeg_cleaned_ica/RD56cleaned_raw.fif...\n",
      "    Read a total of 2 projection items:\n",
      "        EOG-eeg--0.200-0.200-PCA-01 (1 x 28)  idle\n",
      "        EOG-eeg--0.200-0.200-PCA-02 (1 x 28)  idle\n",
      "    Range : 0 ... 854924 =      0.000 ...  1709.848 secs\n",
      "Ready.\n",
      "Reading 0 ... 854924  =      0.000 ...  1709.848 secs...\n"
     ]
    },
    {
     "name": "stderr",
     "output_type": "stream",
     "text": [
      "C:\\Users\\User\\AppData\\Local\\Programs\\Python\\Python311\\Lib\\site-packages\\pyqtgraph\\GraphicsScene\\GraphicsScene.py:378: RuntimeWarning: Projection vector 'EOG-eeg--0.200-0.200-PCA-02' has been reduced to 70.03% of its original magnitude by subselecting 27/28 of the original channels. If the ignored channels were bad during SSP computation, we recommend recomputing proj (via compute_proj_raw or related functions) with the bad channels properly marked, because computing SSP with bad channels present in the data but unmarked is dangerous (it can bias the PCA used by SSP). On the other hand, if you know that all channels were good during SSP computation, you can safely use info.normalize_proj() to suppress this warning during projection.\n",
      "  item.mouseClickEvent(ev)\n",
      "C:\\Users\\User\\AppData\\Local\\Programs\\Python\\Python311\\Lib\\site-packages\\pyqtgraph\\GraphicsScene\\GraphicsScene.py:378: RuntimeWarning: Projection vector 'EOG-eeg--0.200-0.200-PCA-02' has been reduced to 70.03% of its original magnitude by subselecting 27/28 of the original channels. If the ignored channels were bad during SSP computation, we recommend recomputing proj (via compute_proj_raw or related functions) with the bad channels properly marked, because computing SSP with bad channels present in the data but unmarked is dangerous (it can bias the PCA used by SSP). On the other hand, if you know that all channels were good during SSP computation, you can safely use info.normalize_proj() to suppress this warning during projection.\n",
      "  item.mouseClickEvent(ev)\n",
      "C:\\Users\\User\\AppData\\Local\\Programs\\Python\\Python311\\Lib\\site-packages\\pyqtgraph\\GraphicsScene\\GraphicsScene.py:378: RuntimeWarning: Projection vector 'EOG-eeg--0.200-0.200-PCA-02' has been reduced to 27.74% of its original magnitude by subselecting 26/28 of the original channels. If the ignored channels were bad during SSP computation, we recommend recomputing proj (via compute_proj_raw or related functions) with the bad channels properly marked, because computing SSP with bad channels present in the data but unmarked is dangerous (it can bias the PCA used by SSP). On the other hand, if you know that all channels were good during SSP computation, you can safely use info.normalize_proj() to suppress this warning during projection.\n",
      "  item.mouseClickEvent(ev)\n",
      "C:\\Users\\User\\AppData\\Local\\Programs\\Python\\Python311\\Lib\\site-packages\\pyqtgraph\\GraphicsScene\\GraphicsScene.py:378: RuntimeWarning: Projection vector 'EOG-eeg--0.200-0.200-PCA-02' has been reduced to 27.74% of its original magnitude by subselecting 26/28 of the original channels. If the ignored channels were bad during SSP computation, we recommend recomputing proj (via compute_proj_raw or related functions) with the bad channels properly marked, because computing SSP with bad channels present in the data but unmarked is dangerous (it can bias the PCA used by SSP). On the other hand, if you know that all channels were good during SSP computation, you can safely use info.normalize_proj() to suppress this warning during projection.\n",
      "  item.mouseClickEvent(ev)\n",
      "C:\\Users\\User\\AppData\\Local\\Programs\\Python\\Python311\\Lib\\site-packages\\pyqtgraph\\GraphicsScene\\GraphicsScene.py:378: RuntimeWarning: Projection vector 'EOG-eeg--0.200-0.200-PCA-02' has been reduced to 27.57% of its original magnitude by subselecting 25/28 of the original channels. If the ignored channels were bad during SSP computation, we recommend recomputing proj (via compute_proj_raw or related functions) with the bad channels properly marked, because computing SSP with bad channels present in the data but unmarked is dangerous (it can bias the PCA used by SSP). On the other hand, if you know that all channels were good during SSP computation, you can safely use info.normalize_proj() to suppress this warning during projection.\n",
      "  item.mouseClickEvent(ev)\n",
      "C:\\Users\\User\\AppData\\Local\\Programs\\Python\\Python311\\Lib\\site-packages\\pyqtgraph\\GraphicsScene\\GraphicsScene.py:378: RuntimeWarning: Projection vector 'EOG-eeg--0.200-0.200-PCA-02' has been reduced to 27.57% of its original magnitude by subselecting 25/28 of the original channels. If the ignored channels were bad during SSP computation, we recommend recomputing proj (via compute_proj_raw or related functions) with the bad channels properly marked, because computing SSP with bad channels present in the data but unmarked is dangerous (it can bias the PCA used by SSP). On the other hand, if you know that all channels were good during SSP computation, you can safely use info.normalize_proj() to suppress this warning during projection.\n",
      "  item.mouseClickEvent(ev)\n"
     ]
    },
    {
     "name": "stdout",
     "output_type": "stream",
     "text": [
      "Channels marked as bad:\n",
      "['Fp1', 'Fp2', 'F8']\n",
      "Interpolating bad channels\n",
      "    Automatic origin fit: head of radius 94.6 mm\n",
      "Computing interpolation matrix from 25 sensor positions\n",
      "Interpolating 3 sensors\n",
      "Not setting metadata\n",
      "20 matching events found\n",
      "No baseline correction applied\n",
      "Created an SSP operator (subspace dimension = 2)\n",
      "2 projection items activated\n",
      "Using data from preloaded Raw for 20 events and 12501 original time points ...\n",
      "0 bad epochs dropped\n"
     ]
    },
    {
     "name": "stderr",
     "output_type": "stream",
     "text": [
      "C:\\Users\\User\\AppData\\Local\\Temp\\ipykernel_9716\\386509325.py:8: RuntimeWarning: Projection vector 'EOG-eeg--0.200-0.200-PCA-02' has been reduced to 27.57% of its original magnitude by subselecting 25/28 of the original channels. If the ignored channels were bad during SSP computation, we recommend recomputing proj (via compute_proj_raw or related functions) with the bad channels properly marked, because computing SSP with bad channels present in the data but unmarked is dangerous (it can bias the PCA used by SSP). On the other hand, if you know that all channels were good during SSP computation, you can safely use info.normalize_proj() to suppress this warning during projection.\n",
      "  epochs = mne.Epochs(raw, events, event_id, tmin=-5, tmax=20, baseline=None, preload = True)\n",
      "C:\\Users\\User\\AppData\\Local\\Temp\\ipykernel_9716\\386509325.py:9: FutureWarning: The current default events=None is deprecated and will change to events=True in MNE 1.6. Set events=False to suppress this warning.\n",
      "  epochs.plot( n_epochs=1, n_channels=20, title=None, show=True, decim='auto', block = True)\n",
      "C:\\Users\\User\\AppData\\Local\\Temp\\ipykernel_9716\\386509325.py:9: RuntimeWarning: Projection vector 'EOG-eeg--0.200-0.200-PCA-02' has been reduced to 27.57% of its original magnitude by subselecting 25/28 of the original channels. If the ignored channels were bad during SSP computation, we recommend recomputing proj (via compute_proj_raw or related functions) with the bad channels properly marked, because computing SSP with bad channels present in the data but unmarked is dangerous (it can bias the PCA used by SSP). On the other hand, if you know that all channels were good during SSP computation, you can safely use info.normalize_proj() to suppress this warning during projection.\n",
      "  epochs.plot( n_epochs=1, n_channels=20, title=None, show=True, decim='auto', block = True)\n"
     ]
    },
    {
     "name": "stdout",
     "output_type": "stream",
     "text": [
      "Dropped 6 epochs: 5, 6, 12, 15, 16, 18\n",
      "The following epochs were marked as bad and are dropped:\n",
      "[5, 6, 12, 15, 16, 18]\n",
      "Channels marked as bad:\n",
      "['Fp1', 'Fp2', 'F8']\n",
      "Opening raw data file D:/hse/psychodelic_like_experience/data_processing/eeg_cleaned_ica/TR90cleaned_raw.fif...\n",
      "    Read a total of 2 projection items:\n",
      "        EOG-eeg--0.200-0.200-PCA-01 (1 x 28)  idle\n",
      "        EOG-eeg--0.200-0.200-PCA-02 (1 x 28)  idle\n",
      "    Range : 0 ... 799324 =      0.000 ...  1598.648 secs\n",
      "Ready.\n",
      "Reading 0 ... 799324  =      0.000 ...  1598.648 secs...\n",
      "Channels marked as bad:\n",
      "none\n",
      "Not setting metadata\n",
      "20 matching events found\n",
      "No baseline correction applied\n",
      "Created an SSP operator (subspace dimension = 2)\n",
      "2 projection items activated\n",
      "Using data from preloaded Raw for 20 events and 12501 original time points ...\n"
     ]
    },
    {
     "name": "stderr",
     "output_type": "stream",
     "text": [
      "C:\\Users\\User\\AppData\\Local\\Temp\\ipykernel_9716\\386509325.py:6: RuntimeWarning: No bad channels to interpolate. Doing nothing...\n",
      "  raw = raw.copy().interpolate_bads(reset_bads=False)\n"
     ]
    },
    {
     "name": "stdout",
     "output_type": "stream",
     "text": [
      "0 bad epochs dropped\n"
     ]
    },
    {
     "name": "stderr",
     "output_type": "stream",
     "text": [
      "C:\\Users\\User\\AppData\\Local\\Temp\\ipykernel_9716\\386509325.py:9: FutureWarning: The current default events=None is deprecated and will change to events=True in MNE 1.6. Set events=False to suppress this warning.\n",
      "  epochs.plot( n_epochs=1, n_channels=20, title=None, show=True, decim='auto', block = True)\n"
     ]
    },
    {
     "name": "stdout",
     "output_type": "stream",
     "text": [
      "Dropped 1 epoch: 19\n",
      "The following epochs were marked as bad and are dropped:\n",
      "[19]\n",
      "Channels marked as bad:\n",
      "none\n"
     ]
    }
   ],
   "source": [
    "epochs_all = []\n",
    "for subject in subjects:\n",
    "    \n",
    "    raw = mne.io.read_raw(f'D:/hse/psychodelic_like_experience/data_processing/eeg_cleaned_ica/{subject}cleaned_raw.fif', preload = True)\n",
    "    raw.plot(block = True)\n",
    "    raw = raw.copy().interpolate_bads(reset_bads=False)\n",
    "    events = mne.read_events(f'D:/hse/psychodelic_like_experience/data_processing/events/{subject}_eve.txt')\n",
    "    epochs = mne.Epochs(raw, events, event_id, tmin=-5, tmax=20, baseline=None, preload = True)\n",
    "    epochs.plot( n_epochs=1, n_channels=20, title=None, show=True, decim='auto', block = True)\n",
    "    epochs_all.append(epochs)"
   ]
  },
  {
   "cell_type": "markdown",
   "id": "c45a5d84-0e80-4899-8749-f2e37e2312a1",
   "metadata": {},
   "source": [
    "**...and investigate their time-frequency properties**"
   ]
  },
  {
   "cell_type": "code",
   "execution_count": 252,
   "id": "6cc9eb54-7dcf-44f5-8b8a-f7969965b70a",
   "metadata": {},
   "outputs": [
    {
     "name": "stdout",
     "output_type": "stream",
     "text": [
      "Interpolating bad channels\n",
      "    Automatic origin fit: head of radius 94.6 mm\n",
      "Computing interpolation matrix from 27 sensor positions\n",
      "Interpolating 1 sensors\n"
     ]
    },
    {
     "name": "stderr",
     "output_type": "stream",
     "text": [
      "[Parallel(n_jobs=1)]: Done  17 tasks      | elapsed:    2.3s\n"
     ]
    },
    {
     "name": "stdout",
     "output_type": "stream",
     "text": [
      "Not setting metadata\n",
      "Interpolating bad channels\n",
      "    Automatic origin fit: head of radius 94.6 mm\n",
      "Computing interpolation matrix from 26 sensor positions\n",
      "Interpolating 2 sensors\n"
     ]
    },
    {
     "name": "stderr",
     "output_type": "stream",
     "text": [
      "[Parallel(n_jobs=1)]: Done  17 tasks      | elapsed:    3.7s\n"
     ]
    },
    {
     "name": "stdout",
     "output_type": "stream",
     "text": [
      "Not setting metadata\n"
     ]
    },
    {
     "name": "stderr",
     "output_type": "stream",
     "text": [
      "C:\\Users\\User\\AppData\\Local\\Temp\\ipykernel_9716\\3786098942.py:8: RuntimeWarning: No bad channels to interpolate. Doing nothing...\n",
      "  k.interpolate_bads(reset_bads=True, mode='accurate', origin='auto', method=dict(eeg=\"spline\"), exclude=(), verbose=None)\n",
      "[Parallel(n_jobs=1)]: Done  17 tasks      | elapsed:    3.0s\n"
     ]
    },
    {
     "name": "stdout",
     "output_type": "stream",
     "text": [
      "Not setting metadata\n"
     ]
    },
    {
     "name": "stderr",
     "output_type": "stream",
     "text": [
      "C:\\Users\\User\\AppData\\Local\\Temp\\ipykernel_9716\\3786098942.py:8: RuntimeWarning: No bad channels to interpolate. Doing nothing...\n",
      "  k.interpolate_bads(reset_bads=True, mode='accurate', origin='auto', method=dict(eeg=\"spline\"), exclude=(), verbose=None)\n",
      "[Parallel(n_jobs=1)]: Done  17 tasks      | elapsed:    3.8s\n"
     ]
    },
    {
     "name": "stdout",
     "output_type": "stream",
     "text": [
      "Not setting metadata\n",
      "Interpolating bad channels\n",
      "    Automatic origin fit: head of radius 94.6 mm\n",
      "Computing interpolation matrix from 27 sensor positions\n",
      "Interpolating 1 sensors\n"
     ]
    },
    {
     "name": "stderr",
     "output_type": "stream",
     "text": [
      "[Parallel(n_jobs=1)]: Done  17 tasks      | elapsed:    1.4s\n"
     ]
    },
    {
     "name": "stdout",
     "output_type": "stream",
     "text": [
      "Not setting metadata\n",
      "Interpolating bad channels\n",
      "    Automatic origin fit: head of radius 94.6 mm\n",
      "Computing interpolation matrix from 25 sensor positions\n",
      "Interpolating 3 sensors\n"
     ]
    },
    {
     "name": "stderr",
     "output_type": "stream",
     "text": [
      "[Parallel(n_jobs=1)]: Done  17 tasks      | elapsed:    1.4s\n"
     ]
    },
    {
     "name": "stdout",
     "output_type": "stream",
     "text": [
      "Not setting metadata\n",
      "Interpolating bad channels\n",
      "    Automatic origin fit: head of radius 94.6 mm\n",
      "Computing interpolation matrix from 26 sensor positions\n",
      "Interpolating 2 sensors\n"
     ]
    },
    {
     "name": "stderr",
     "output_type": "stream",
     "text": [
      "[Parallel(n_jobs=1)]: Done  17 tasks      | elapsed:    2.9s\n"
     ]
    },
    {
     "name": "stdout",
     "output_type": "stream",
     "text": [
      "Not setting metadata\n"
     ]
    },
    {
     "name": "stderr",
     "output_type": "stream",
     "text": [
      "C:\\Users\\User\\AppData\\Local\\Temp\\ipykernel_9716\\3786098942.py:8: RuntimeWarning: No bad channels to interpolate. Doing nothing...\n",
      "  k.interpolate_bads(reset_bads=True, mode='accurate', origin='auto', method=dict(eeg=\"spline\"), exclude=(), verbose=None)\n",
      "[Parallel(n_jobs=1)]: Done  17 tasks      | elapsed:    3.7s\n"
     ]
    },
    {
     "name": "stdout",
     "output_type": "stream",
     "text": [
      "Not setting metadata\n",
      "Interpolating bad channels\n",
      "    Automatic origin fit: head of radius 94.6 mm\n",
      "Computing interpolation matrix from 25 sensor positions\n",
      "Interpolating 3 sensors\n"
     ]
    },
    {
     "name": "stderr",
     "output_type": "stream",
     "text": [
      "[Parallel(n_jobs=1)]: Done  17 tasks      | elapsed:    3.0s\n"
     ]
    },
    {
     "name": "stdout",
     "output_type": "stream",
     "text": [
      "Not setting metadata\n"
     ]
    },
    {
     "name": "stderr",
     "output_type": "stream",
     "text": [
      "C:\\Users\\User\\AppData\\Local\\Temp\\ipykernel_9716\\3786098942.py:8: RuntimeWarning: No bad channels to interpolate. Doing nothing...\n",
      "  k.interpolate_bads(reset_bads=True, mode='accurate', origin='auto', method=dict(eeg=\"spline\"), exclude=(), verbose=None)\n",
      "[Parallel(n_jobs=1)]: Done  17 tasks      | elapsed:    3.7s\n"
     ]
    },
    {
     "name": "stdout",
     "output_type": "stream",
     "text": [
      "Not setting metadata\n",
      "Converting \"channel\" to \"category\"...\n",
      "Converting \"ch_type\" to \"category\"...\n",
      "Converting \"channel\" to \"category\"...\n",
      "Converting \"ch_type\" to \"category\"...\n",
      "Converting \"channel\" to \"category\"...\n",
      "Converting \"ch_type\" to \"category\"...\n",
      "Converting \"channel\" to \"category\"...\n",
      "Converting \"ch_type\" to \"category\"...\n",
      "Converting \"channel\" to \"category\"...\n",
      "Converting \"ch_type\" to \"category\"...\n",
      "Converting \"channel\" to \"category\"...\n",
      "Converting \"ch_type\" to \"category\"...\n",
      "Converting \"channel\" to \"category\"...\n",
      "Converting \"ch_type\" to \"category\"...\n",
      "Converting \"channel\" to \"category\"...\n",
      "Converting \"ch_type\" to \"category\"...\n",
      "Converting \"channel\" to \"category\"...\n",
      "Converting \"ch_type\" to \"category\"...\n",
      "Converting \"channel\" to \"category\"...\n",
      "Converting \"ch_type\" to \"category\"...\n",
      "Interpolating bad channels\n",
      "    Automatic origin fit: head of radius 94.6 mm\n",
      "Computing interpolation matrix from 27 sensor positions\n",
      "Interpolating 1 sensors\n"
     ]
    },
    {
     "name": "stderr",
     "output_type": "stream",
     "text": [
      "[Parallel(n_jobs=1)]: Done  17 tasks      | elapsed:    0.7s\n"
     ]
    },
    {
     "name": "stdout",
     "output_type": "stream",
     "text": [
      "Not setting metadata\n",
      "Interpolating bad channels\n",
      "    Automatic origin fit: head of radius 94.6 mm\n",
      "Computing interpolation matrix from 26 sensor positions\n",
      "Interpolating 2 sensors\n"
     ]
    },
    {
     "name": "stderr",
     "output_type": "stream",
     "text": [
      "[Parallel(n_jobs=1)]: Done  17 tasks      | elapsed:    3.1s\n"
     ]
    },
    {
     "name": "stdout",
     "output_type": "stream",
     "text": [
      "Not setting metadata\n"
     ]
    },
    {
     "name": "stderr",
     "output_type": "stream",
     "text": [
      "C:\\Users\\User\\AppData\\Local\\Temp\\ipykernel_9716\\3786098942.py:8: RuntimeWarning: No bad channels to interpolate. Doing nothing...\n",
      "  k.interpolate_bads(reset_bads=True, mode='accurate', origin='auto', method=dict(eeg=\"spline\"), exclude=(), verbose=None)\n",
      "[Parallel(n_jobs=1)]: Done  17 tasks      | elapsed:    2.2s\n"
     ]
    },
    {
     "name": "stdout",
     "output_type": "stream",
     "text": [
      "Not setting metadata\n"
     ]
    },
    {
     "name": "stderr",
     "output_type": "stream",
     "text": [
      "C:\\Users\\User\\AppData\\Local\\Temp\\ipykernel_9716\\3786098942.py:8: RuntimeWarning: No bad channels to interpolate. Doing nothing...\n",
      "  k.interpolate_bads(reset_bads=True, mode='accurate', origin='auto', method=dict(eeg=\"spline\"), exclude=(), verbose=None)\n",
      "[Parallel(n_jobs=1)]: Done  17 tasks      | elapsed:    3.7s\n"
     ]
    },
    {
     "name": "stdout",
     "output_type": "stream",
     "text": [
      "Not setting metadata\n",
      "Interpolating bad channels\n",
      "    Automatic origin fit: head of radius 94.6 mm\n",
      "Computing interpolation matrix from 27 sensor positions\n",
      "Interpolating 1 sensors\n"
     ]
    },
    {
     "name": "stderr",
     "output_type": "stream",
     "text": [
      "[Parallel(n_jobs=1)]: Done  17 tasks      | elapsed:    1.4s\n"
     ]
    },
    {
     "name": "stdout",
     "output_type": "stream",
     "text": [
      "Not setting metadata\n",
      "Interpolating bad channels\n",
      "    Automatic origin fit: head of radius 94.6 mm\n",
      "Computing interpolation matrix from 25 sensor positions\n",
      "Interpolating 3 sensors\n"
     ]
    },
    {
     "name": "stderr",
     "output_type": "stream",
     "text": [
      "[Parallel(n_jobs=1)]: Done  17 tasks      | elapsed:    3.8s\n"
     ]
    },
    {
     "name": "stdout",
     "output_type": "stream",
     "text": [
      "Not setting metadata\n",
      "Interpolating bad channels\n",
      "    Automatic origin fit: head of radius 94.6 mm\n",
      "Computing interpolation matrix from 26 sensor positions\n",
      "Interpolating 2 sensors\n"
     ]
    },
    {
     "name": "stderr",
     "output_type": "stream",
     "text": [
      "[Parallel(n_jobs=1)]: Done  17 tasks      | elapsed:    2.9s\n"
     ]
    },
    {
     "name": "stdout",
     "output_type": "stream",
     "text": [
      "Not setting metadata\n"
     ]
    },
    {
     "name": "stderr",
     "output_type": "stream",
     "text": [
      "C:\\Users\\User\\AppData\\Local\\Temp\\ipykernel_9716\\3786098942.py:8: RuntimeWarning: No bad channels to interpolate. Doing nothing...\n",
      "  k.interpolate_bads(reset_bads=True, mode='accurate', origin='auto', method=dict(eeg=\"spline\"), exclude=(), verbose=None)\n",
      "[Parallel(n_jobs=1)]: Done  17 tasks      | elapsed:    3.7s\n"
     ]
    },
    {
     "name": "stdout",
     "output_type": "stream",
     "text": [
      "Not setting metadata\n",
      "Interpolating bad channels\n",
      "    Automatic origin fit: head of radius 94.6 mm\n",
      "Computing interpolation matrix from 25 sensor positions\n",
      "Interpolating 3 sensors\n"
     ]
    },
    {
     "name": "stderr",
     "output_type": "stream",
     "text": [
      "[Parallel(n_jobs=1)]: Done  17 tasks      | elapsed:    1.4s\n"
     ]
    },
    {
     "name": "stdout",
     "output_type": "stream",
     "text": [
      "Not setting metadata\n"
     ]
    },
    {
     "name": "stderr",
     "output_type": "stream",
     "text": [
      "C:\\Users\\User\\AppData\\Local\\Temp\\ipykernel_9716\\3786098942.py:8: RuntimeWarning: No bad channels to interpolate. Doing nothing...\n",
      "  k.interpolate_bads(reset_bads=True, mode='accurate', origin='auto', method=dict(eeg=\"spline\"), exclude=(), verbose=None)\n",
      "[Parallel(n_jobs=1)]: Done  17 tasks      | elapsed:    3.9s\n"
     ]
    },
    {
     "name": "stdout",
     "output_type": "stream",
     "text": [
      "Not setting metadata\n",
      "Converting \"channel\" to \"category\"...\n",
      "Converting \"ch_type\" to \"category\"...\n",
      "Converting \"channel\" to \"category\"...\n",
      "Converting \"ch_type\" to \"category\"...\n",
      "Converting \"channel\" to \"category\"...\n",
      "Converting \"ch_type\" to \"category\"...\n",
      "Converting \"channel\" to \"category\"...\n",
      "Converting \"ch_type\" to \"category\"...\n",
      "Converting \"channel\" to \"category\"...\n",
      "Converting \"ch_type\" to \"category\"...\n",
      "Converting \"channel\" to \"category\"...\n",
      "Converting \"ch_type\" to \"category\"...\n",
      "Converting \"channel\" to \"category\"...\n",
      "Converting \"ch_type\" to \"category\"...\n",
      "Converting \"channel\" to \"category\"...\n",
      "Converting \"ch_type\" to \"category\"...\n",
      "Converting \"channel\" to \"category\"...\n",
      "Converting \"ch_type\" to \"category\"...\n",
      "Converting \"channel\" to \"category\"...\n",
      "Converting \"ch_type\" to \"category\"...\n"
     ]
    },
    {
     "name": "stderr",
     "output_type": "stream",
     "text": [
      "C:\\Users\\User\\AppData\\Local\\Programs\\Python\\Python311\\Lib\\site-packages\\mne\\viz\\_mpl_figure.py:2373: RuntimeWarning: More than 20 figures have been opened. Figures created through the pyplot interface (`matplotlib.pyplot.figure`) are retained until explicitly closed and may consume too much memory. (To control this warning, see the rcParam `figure.max_open_warning`). Consider using `matplotlib.pyplot.close()`.\n",
      "  fig = plt.figure(FigureClass=FigureClass, **kwargs)\n"
     ]
    },
    {
     "name": "stdout",
     "output_type": "stream",
     "text": [
      "Interpolating bad channels\n",
      "    Automatic origin fit: head of radius 94.6 mm\n",
      "Computing interpolation matrix from 27 sensor positions\n",
      "Interpolating 1 sensors\n"
     ]
    },
    {
     "name": "stderr",
     "output_type": "stream",
     "text": [
      "[Parallel(n_jobs=1)]: Done  17 tasks      | elapsed:    1.4s\n"
     ]
    },
    {
     "name": "stdout",
     "output_type": "stream",
     "text": [
      "Not setting metadata\n",
      "Interpolating bad channels\n",
      "    Automatic origin fit: head of radius 94.6 mm\n",
      "Computing interpolation matrix from 26 sensor positions\n",
      "Interpolating 2 sensors\n"
     ]
    },
    {
     "name": "stderr",
     "output_type": "stream",
     "text": [
      "[Parallel(n_jobs=1)]: Done  17 tasks      | elapsed:    3.7s\n"
     ]
    },
    {
     "name": "stdout",
     "output_type": "stream",
     "text": [
      "Not setting metadata\n"
     ]
    },
    {
     "name": "stderr",
     "output_type": "stream",
     "text": [
      "C:\\Users\\User\\AppData\\Local\\Temp\\ipykernel_9716\\3786098942.py:8: RuntimeWarning: No bad channels to interpolate. Doing nothing...\n",
      "  k.interpolate_bads(reset_bads=True, mode='accurate', origin='auto', method=dict(eeg=\"spline\"), exclude=(), verbose=None)\n",
      "[Parallel(n_jobs=1)]: Done  17 tasks      | elapsed:    1.4s\n"
     ]
    },
    {
     "name": "stdout",
     "output_type": "stream",
     "text": [
      "Not setting metadata\n"
     ]
    },
    {
     "name": "stderr",
     "output_type": "stream",
     "text": [
      "C:\\Users\\User\\AppData\\Local\\Temp\\ipykernel_9716\\3786098942.py:8: RuntimeWarning: No bad channels to interpolate. Doing nothing...\n",
      "  k.interpolate_bads(reset_bads=True, mode='accurate', origin='auto', method=dict(eeg=\"spline\"), exclude=(), verbose=None)\n",
      "[Parallel(n_jobs=1)]: Done  17 tasks      | elapsed:    3.8s\n"
     ]
    },
    {
     "name": "stdout",
     "output_type": "stream",
     "text": [
      "Not setting metadata\n",
      "Interpolating bad channels\n",
      "    Automatic origin fit: head of radius 94.6 mm\n",
      "Computing interpolation matrix from 27 sensor positions\n",
      "Interpolating 1 sensors\n"
     ]
    },
    {
     "name": "stderr",
     "output_type": "stream",
     "text": [
      "[Parallel(n_jobs=1)]: Done  17 tasks      | elapsed:    2.2s\n"
     ]
    },
    {
     "name": "stdout",
     "output_type": "stream",
     "text": [
      "Not setting metadata\n",
      "Interpolating bad channels\n",
      "    Automatic origin fit: head of radius 94.6 mm\n",
      "Computing interpolation matrix from 25 sensor positions\n",
      "Interpolating 3 sensors\n"
     ]
    },
    {
     "name": "stderr",
     "output_type": "stream",
     "text": [
      "[Parallel(n_jobs=1)]: Done  17 tasks      | elapsed:    3.1s\n"
     ]
    },
    {
     "name": "stdout",
     "output_type": "stream",
     "text": [
      "Not setting metadata\n",
      "Interpolating bad channels\n",
      "    Automatic origin fit: head of radius 94.6 mm\n",
      "Computing interpolation matrix from 26 sensor positions\n",
      "Interpolating 2 sensors\n"
     ]
    },
    {
     "name": "stderr",
     "output_type": "stream",
     "text": [
      "[Parallel(n_jobs=1)]: Done  17 tasks      | elapsed:    1.4s\n"
     ]
    },
    {
     "name": "stdout",
     "output_type": "stream",
     "text": [
      "Not setting metadata\n"
     ]
    },
    {
     "name": "stderr",
     "output_type": "stream",
     "text": [
      "C:\\Users\\User\\AppData\\Local\\Temp\\ipykernel_9716\\3786098942.py:8: RuntimeWarning: No bad channels to interpolate. Doing nothing...\n",
      "  k.interpolate_bads(reset_bads=True, mode='accurate', origin='auto', method=dict(eeg=\"spline\"), exclude=(), verbose=None)\n",
      "[Parallel(n_jobs=1)]: Done  17 tasks      | elapsed:    4.2s\n"
     ]
    },
    {
     "name": "stdout",
     "output_type": "stream",
     "text": [
      "Not setting metadata\n",
      "Interpolating bad channels\n",
      "    Automatic origin fit: head of radius 94.6 mm\n",
      "Computing interpolation matrix from 25 sensor positions\n",
      "Interpolating 3 sensors\n"
     ]
    },
    {
     "name": "stderr",
     "output_type": "stream",
     "text": [
      "[Parallel(n_jobs=1)]: Done  17 tasks      | elapsed:    3.0s\n"
     ]
    },
    {
     "name": "stdout",
     "output_type": "stream",
     "text": [
      "Not setting metadata\n"
     ]
    },
    {
     "name": "stderr",
     "output_type": "stream",
     "text": [
      "C:\\Users\\User\\AppData\\Local\\Temp\\ipykernel_9716\\3786098942.py:8: RuntimeWarning: No bad channels to interpolate. Doing nothing...\n",
      "  k.interpolate_bads(reset_bads=True, mode='accurate', origin='auto', method=dict(eeg=\"spline\"), exclude=(), verbose=None)\n",
      "[Parallel(n_jobs=1)]: Done  17 tasks      | elapsed:    3.0s\n"
     ]
    },
    {
     "name": "stdout",
     "output_type": "stream",
     "text": [
      "Not setting metadata\n",
      "Converting \"channel\" to \"category\"...\n",
      "Converting \"ch_type\" to \"category\"...\n",
      "Converting \"channel\" to \"category\"...\n",
      "Converting \"ch_type\" to \"category\"...\n",
      "Converting \"channel\" to \"category\"...\n",
      "Converting \"ch_type\" to \"category\"...\n",
      "Converting \"channel\" to \"category\"...\n",
      "Converting \"ch_type\" to \"category\"...\n",
      "Converting \"channel\" to \"category\"...\n",
      "Converting \"ch_type\" to \"category\"...\n",
      "Converting \"channel\" to \"category\"...\n",
      "Converting \"ch_type\" to \"category\"...\n",
      "Converting \"channel\" to \"category\"...\n",
      "Converting \"ch_type\" to \"category\"...\n",
      "Converting \"channel\" to \"category\"...\n",
      "Converting \"ch_type\" to \"category\"...\n",
      "Converting \"channel\" to \"category\"...\n",
      "Converting \"ch_type\" to \"category\"...\n",
      "Converting \"channel\" to \"category\"...\n",
      "Converting \"ch_type\" to \"category\"...\n",
      "Interpolating bad channels\n",
      "    Automatic origin fit: head of radius 94.6 mm\n",
      "Computing interpolation matrix from 27 sensor positions\n",
      "Interpolating 1 sensors\n"
     ]
    },
    {
     "name": "stderr",
     "output_type": "stream",
     "text": [
      "[Parallel(n_jobs=1)]: Done  17 tasks      | elapsed:    1.4s\n"
     ]
    },
    {
     "name": "stdout",
     "output_type": "stream",
     "text": [
      "Not setting metadata\n",
      "Interpolating bad channels\n",
      "    Automatic origin fit: head of radius 94.6 mm\n",
      "Computing interpolation matrix from 26 sensor positions\n",
      "Interpolating 2 sensors\n"
     ]
    },
    {
     "name": "stderr",
     "output_type": "stream",
     "text": [
      "[Parallel(n_jobs=1)]: Done  17 tasks      | elapsed:    3.7s\n"
     ]
    },
    {
     "name": "stdout",
     "output_type": "stream",
     "text": [
      "Not setting metadata\n"
     ]
    },
    {
     "name": "stderr",
     "output_type": "stream",
     "text": [
      "C:\\Users\\User\\AppData\\Local\\Temp\\ipykernel_9716\\3786098942.py:8: RuntimeWarning: No bad channels to interpolate. Doing nothing...\n",
      "  k.interpolate_bads(reset_bads=True, mode='accurate', origin='auto', method=dict(eeg=\"spline\"), exclude=(), verbose=None)\n",
      "[Parallel(n_jobs=1)]: Done  17 tasks      | elapsed:    2.2s\n"
     ]
    },
    {
     "name": "stdout",
     "output_type": "stream",
     "text": [
      "Not setting metadata\n"
     ]
    },
    {
     "name": "stderr",
     "output_type": "stream",
     "text": [
      "C:\\Users\\User\\AppData\\Local\\Temp\\ipykernel_9716\\3786098942.py:8: RuntimeWarning: No bad channels to interpolate. Doing nothing...\n",
      "  k.interpolate_bads(reset_bads=True, mode='accurate', origin='auto', method=dict(eeg=\"spline\"), exclude=(), verbose=None)\n",
      "[Parallel(n_jobs=1)]: Done  17 tasks      | elapsed:    2.2s\n"
     ]
    },
    {
     "name": "stdout",
     "output_type": "stream",
     "text": [
      "Not setting metadata\n",
      "Interpolating bad channels\n",
      "    Automatic origin fit: head of radius 94.6 mm\n",
      "Computing interpolation matrix from 27 sensor positions\n",
      "Interpolating 1 sensors\n"
     ]
    },
    {
     "name": "stderr",
     "output_type": "stream",
     "text": [
      "[Parallel(n_jobs=1)]: Done  17 tasks      | elapsed:    2.2s\n"
     ]
    },
    {
     "name": "stdout",
     "output_type": "stream",
     "text": [
      "Not setting metadata\n",
      "Interpolating bad channels\n",
      "    Automatic origin fit: head of radius 94.6 mm\n",
      "Computing interpolation matrix from 25 sensor positions\n",
      "Interpolating 3 sensors\n"
     ]
    },
    {
     "name": "stderr",
     "output_type": "stream",
     "text": [
      "[Parallel(n_jobs=1)]: Done  17 tasks      | elapsed:    2.2s\n"
     ]
    },
    {
     "name": "stdout",
     "output_type": "stream",
     "text": [
      "Not setting metadata\n",
      "Interpolating bad channels\n",
      "    Automatic origin fit: head of radius 94.6 mm\n",
      "Computing interpolation matrix from 26 sensor positions\n",
      "Interpolating 2 sensors\n"
     ]
    },
    {
     "name": "stderr",
     "output_type": "stream",
     "text": [
      "[Parallel(n_jobs=1)]: Done  17 tasks      | elapsed:    2.2s\n"
     ]
    },
    {
     "name": "stdout",
     "output_type": "stream",
     "text": [
      "Not setting metadata\n"
     ]
    },
    {
     "name": "stderr",
     "output_type": "stream",
     "text": [
      "C:\\Users\\User\\AppData\\Local\\Temp\\ipykernel_9716\\3786098942.py:8: RuntimeWarning: No bad channels to interpolate. Doing nothing...\n",
      "  k.interpolate_bads(reset_bads=True, mode='accurate', origin='auto', method=dict(eeg=\"spline\"), exclude=(), verbose=None)\n",
      "[Parallel(n_jobs=1)]: Done  17 tasks      | elapsed:    3.7s\n"
     ]
    },
    {
     "name": "stdout",
     "output_type": "stream",
     "text": [
      "Not setting metadata\n",
      "Interpolating bad channels\n",
      "    Automatic origin fit: head of radius 94.6 mm\n",
      "Computing interpolation matrix from 25 sensor positions\n",
      "Interpolating 3 sensors\n"
     ]
    },
    {
     "name": "stderr",
     "output_type": "stream",
     "text": [
      "[Parallel(n_jobs=1)]: Done  17 tasks      | elapsed:    3.1s\n"
     ]
    },
    {
     "name": "stdout",
     "output_type": "stream",
     "text": [
      "Not setting metadata\n"
     ]
    },
    {
     "name": "stderr",
     "output_type": "stream",
     "text": [
      "C:\\Users\\User\\AppData\\Local\\Temp\\ipykernel_9716\\3786098942.py:8: RuntimeWarning: No bad channels to interpolate. Doing nothing...\n",
      "  k.interpolate_bads(reset_bads=True, mode='accurate', origin='auto', method=dict(eeg=\"spline\"), exclude=(), verbose=None)\n",
      "[Parallel(n_jobs=1)]: Done  17 tasks      | elapsed:    4.0s\n"
     ]
    },
    {
     "name": "stdout",
     "output_type": "stream",
     "text": [
      "Not setting metadata\n",
      "Converting \"channel\" to \"category\"...\n",
      "Converting \"ch_type\" to \"category\"...\n",
      "Converting \"channel\" to \"category\"...\n",
      "Converting \"ch_type\" to \"category\"...\n",
      "Converting \"channel\" to \"category\"...\n",
      "Converting \"ch_type\" to \"category\"...\n",
      "Converting \"channel\" to \"category\"...\n",
      "Converting \"ch_type\" to \"category\"...\n",
      "Converting \"channel\" to \"category\"...\n",
      "Converting \"ch_type\" to \"category\"...\n",
      "Converting \"channel\" to \"category\"...\n",
      "Converting \"ch_type\" to \"category\"...\n",
      "Converting \"channel\" to \"category\"...\n",
      "Converting \"ch_type\" to \"category\"...\n",
      "Converting \"channel\" to \"category\"...\n",
      "Converting \"ch_type\" to \"category\"...\n",
      "Converting \"channel\" to \"category\"...\n",
      "Converting \"ch_type\" to \"category\"...\n",
      "Converting \"channel\" to \"category\"...\n",
      "Converting \"ch_type\" to \"category\"...\n"
     ]
    }
   ],
   "source": [
    "scenes = ['kaleidoscope', 'CubesControl', 'HoneyComb', 'Fractal']\n",
    "decim = 5\n",
    "freqs = np.arange(4, 30, 1)  # define frequencies of interest\n",
    "n_cycles = freqs / freqs[0]\n",
    "for scene in scenes:\n",
    "    list_epochs = []\n",
    "    for i in range(len(epochs_all)):\n",
    "        list_epochs.append(epochs_all[i][scene])\n",
    "    tfr = []\n",
    "    for k in list_epochs:\n",
    "            k.interpolate_bads(reset_bads=True, mode='accurate', origin='auto', method=dict(eeg=\"spline\"), exclude=(), verbose=None)\n",
    "            tfr_epochs = tfr_morlet(\n",
    "            k,\n",
    "            freqs,\n",
    "            n_cycles=n_cycles,\n",
    "            decim=decim,\n",
    "            average=False,\n",
    "            return_itc=False,\n",
    "            n_jobs=None,\n",
    "            )\n",
    "            #.average(method='mean', dim='epochs').to_data_frame(long_format = True)\n",
    "            tfr.append(tfr_epochs)\n",
    "    df_tfr = []\n",
    "    for i in range(0, len(tfr)):\n",
    "       df = tfr[i].average(method='mean', dim='epochs').to_data_frame(long_format = True)\n",
    "       df_tfr.append(df)\n",
    "    df_tfr = pd.concat(df_tfr)\n",
    "    df_tfr.groupby(['freq', 'channel'])['value'].mean()\n",
    "    #df_kaleidoscop_tfr = pd.concat(df_kaleidoscop_tfr)\n",
    "    theta = df_tfr.query('freq > 3 and freq < 9').groupby(['freq', 'channel'])['value'].mean()\n",
    "    #theta.to_csv(f'D:/hse/psychodelic_like_experience/data_processing/tfr_epochs/{scene}/theta.csv')\n",
    "    alpha = df_tfr.query('freq > 7 and freq < 13').groupby(['freq', 'channel'])['value'].mean()\n",
    "    #alpha.to_csv(f'D:/hse/psychodelic_like_experience/data_processing/tfr_epochs/{scene}/alpha.csv')\n",
    "    beta = df_tfr.query('freq > 12 and freq < 31').groupby(['freq', 'channel'])['value'].mean()\n",
    "    #beta.to_csv(f'D:/hse/psychodelic_like_experience/data_processing/tfr_epochs/{scene}/beta.csv')\n",
    "    t = theta.groupby(['channel']).mean()\n",
    "    a = alpha.groupby(['channel']).mean()\n",
    "    b = beta.groupby(['channel']).mean()\n",
    "    temp.data = np.array([t,a,b]).T* (10**10)\n",
    "    numpy.savetxt(f'D:/hse/psychodelic_like_experience/data_processing/tfr_epochs/{scene}.csv', temp.data, delimiter=\",\")  \n",
    "    fig = temp.plot_topomap(times=temp.times,  ch_type='eeg', scalings = 1, units = '', show = False,  time_unit='s',  colorbar = False, extrapolate = \"head\")\n",
    "    fig.suptitle(f'{scene}',  fontsize=20, fontweight='bold')\n",
    "    titles = ['theta', 'alpha', 'beta']\n",
    "    # Set titles for subplots\n",
    "    for ax, title in zip(fig.axes, titles):\n",
    "        ax.set_title(title)\n",
    "    fig\n",
    "    fig.savefig(f'D:/hse/psychodelic_like_experience/data_processing/tfr_epochs/{scene}/pic.png')\n"
   ]
  },
  {
   "cell_type": "markdown",
   "id": "286d19e5-94f5-42d6-8f7b-8ff9dcd84760",
   "metadata": {},
   "source": [
    "**Run the simpliest ANOVA just for preliminary analysis**"
   ]
  },
  {
   "cell_type": "code",
   "execution_count": 253,
   "id": "b5e2b2bf-cedf-42bf-b8d3-79ae4aac3709",
   "metadata": {},
   "outputs": [],
   "source": [
    "kdata = pd.read_csv(f'D:/hse/psychodelic_like_experience/data_processing/tfr_epochs/kaleidoscope.csv', header = None)\n",
    "cdata =  pd.read_csv(f'D:/hse/psychodelic_like_experience/data_processing/tfr_epochs/CubesControl.csv', header = None)\n",
    "hdata = pd.read_csv(f'D:/hse/psychodelic_like_experience/data_processing/tfr_epochs/HoneyComb.csv', header = None)\n",
    "fdata = pd.read_csv(f'D:/hse/psychodelic_like_experience/data_processing/tfr_epochs/Fractal.csv', header = None)"
   ]
  },
  {
   "cell_type": "code",
   "execution_count": 287,
   "id": "91b49884-4c58-4471-a069-f96da73f7ce8",
   "metadata": {},
   "outputs": [],
   "source": [
    "data = {'sensor': np.arange(0, 28),\n",
    "        'theta': kdata[1].values,\n",
    "        'condition': 'kaleidoscope'}\n",
    "k_df = pd.DataFrame(data)\n",
    "data = {'sensor': np.arange(0, 28),\n",
    "        'theta': hdata[1].values,\n",
    "        'condition': 'honeycomb'}\n",
    "h_df = pd.DataFrame(data)\n",
    "data = {'sensor': np.arange(0, 28),\n",
    "        'theta': hdata[1].values,\n",
    "        'condition': 'fractal'}\n",
    "f_df = pd.DataFrame(data)\n",
    "data = {'sensor': np.arange(0, 28),\n",
    "        'theta': hdata[1].values,\n",
    "        'condition': 'cubescontrol'}\n",
    "#c_df = pd.DataFrame(data)\n",
    "#df_for_stats = pd.DataFrame()\n",
    "#df_for_stats = df_for_stats.concat(k_df)#.concat(h_df).concat(f_df).concat(c_df)\n",
    "#df_for_stats = pd.concat(k_df, h_df, f_df, c_df )"
   ]
  },
  {
   "cell_type": "code",
   "execution_count": 284,
   "id": "c26e5bfe-f045-4e0d-b2ed-36f1b927c4c5",
   "metadata": {},
   "outputs": [],
   "source": [
    "df = pd.concat(pd.DataFrame(i) for i in (k_df, h_df, f_df, c_df))"
   ]
  },
  {
   "cell_type": "code",
   "execution_count": 285,
   "id": "fa9e4708-1f04-46d1-96d8-9ec1a9ab9997",
   "metadata": {},
   "outputs": [
    {
     "data": {
      "text/html": [
       "<div>\n",
       "<style scoped>\n",
       "    .dataframe tbody tr th:only-of-type {\n",
       "        vertical-align: middle;\n",
       "    }\n",
       "\n",
       "    .dataframe tbody tr th {\n",
       "        vertical-align: top;\n",
       "    }\n",
       "\n",
       "    .dataframe thead th {\n",
       "        text-align: right;\n",
       "    }\n",
       "</style>\n",
       "<table border=\"1\" class=\"dataframe\">\n",
       "  <thead>\n",
       "    <tr style=\"text-align: right;\">\n",
       "      <th></th>\n",
       "      <th>sensor</th>\n",
       "      <th>theta</th>\n",
       "      <th>condition</th>\n",
       "    </tr>\n",
       "  </thead>\n",
       "  <tbody>\n",
       "    <tr>\n",
       "      <th>0</th>\n",
       "      <td>0</td>\n",
       "      <td>5.686399</td>\n",
       "      <td>kaleidoscope</td>\n",
       "    </tr>\n",
       "    <tr>\n",
       "      <th>1</th>\n",
       "      <td>1</td>\n",
       "      <td>6.787471</td>\n",
       "      <td>kaleidoscope</td>\n",
       "    </tr>\n",
       "    <tr>\n",
       "      <th>2</th>\n",
       "      <td>2</td>\n",
       "      <td>8.717342</td>\n",
       "      <td>kaleidoscope</td>\n",
       "    </tr>\n",
       "    <tr>\n",
       "      <th>3</th>\n",
       "      <td>3</td>\n",
       "      <td>8.698775</td>\n",
       "      <td>kaleidoscope</td>\n",
       "    </tr>\n",
       "    <tr>\n",
       "      <th>4</th>\n",
       "      <td>4</td>\n",
       "      <td>5.063024</td>\n",
       "      <td>kaleidoscope</td>\n",
       "    </tr>\n",
       "    <tr>\n",
       "      <th>...</th>\n",
       "      <td>...</td>\n",
       "      <td>...</td>\n",
       "      <td>...</td>\n",
       "    </tr>\n",
       "    <tr>\n",
       "      <th>23</th>\n",
       "      <td>23</td>\n",
       "      <td>6.288982</td>\n",
       "      <td>cubescontrol</td>\n",
       "    </tr>\n",
       "    <tr>\n",
       "      <th>24</th>\n",
       "      <td>24</td>\n",
       "      <td>7.650463</td>\n",
       "      <td>cubescontrol</td>\n",
       "    </tr>\n",
       "    <tr>\n",
       "      <th>25</th>\n",
       "      <td>25</td>\n",
       "      <td>10.637399</td>\n",
       "      <td>cubescontrol</td>\n",
       "    </tr>\n",
       "    <tr>\n",
       "      <th>26</th>\n",
       "      <td>26</td>\n",
       "      <td>2.764090</td>\n",
       "      <td>cubescontrol</td>\n",
       "    </tr>\n",
       "    <tr>\n",
       "      <th>27</th>\n",
       "      <td>27</td>\n",
       "      <td>3.455081</td>\n",
       "      <td>cubescontrol</td>\n",
       "    </tr>\n",
       "  </tbody>\n",
       "</table>\n",
       "<p>112 rows × 3 columns</p>\n",
       "</div>"
      ],
      "text/plain": [
       "    sensor      theta     condition\n",
       "0        0   5.686399  kaleidoscope\n",
       "1        1   6.787471  kaleidoscope\n",
       "2        2   8.717342  kaleidoscope\n",
       "3        3   8.698775  kaleidoscope\n",
       "4        4   5.063024  kaleidoscope\n",
       "..     ...        ...           ...\n",
       "23      23   6.288982  cubescontrol\n",
       "24      24   7.650463  cubescontrol\n",
       "25      25  10.637399  cubescontrol\n",
       "26      26   2.764090  cubescontrol\n",
       "27      27   3.455081  cubescontrol\n",
       "\n",
       "[112 rows x 3 columns]"
      ]
     },
     "execution_count": 285,
     "metadata": {},
     "output_type": "execute_result"
    }
   ],
   "source": [
    "df"
   ]
  },
  {
   "cell_type": "code",
   "execution_count": 288,
   "id": "e70cda1c-cb14-4187-b85b-a38c42cd2de5",
   "metadata": {},
   "outputs": [
    {
     "name": "stdout",
     "output_type": "stream",
     "text": [
      "                 Anova\n",
      "=======================================\n",
      "          F Value Num DF  Den DF Pr > F\n",
      "---------------------------------------\n",
      "condition  0.5250 3.0000 81.0000 0.6663\n",
      "=======================================\n",
      "\n"
     ]
    }
   ],
   "source": [
    "aovrm = AnovaRM(df, 'theta', 'sensor', within=['condition'])\n",
    "res = aovrm.fit()\n",
    "\n",
    "print(res)\n"
   ]
  },
  {
   "cell_type": "code",
   "execution_count": 244,
   "id": "860a5e0f-2bd2-4ca1-9efe-c54d4955a88f",
   "metadata": {},
   "outputs": [],
   "source": [
    "h_c = hdata.subtract(cdata) #to look more precisely at difference between euclidian and non-euclidian scenes"
   ]
  },
  {
   "cell_type": "code",
   "execution_count": 228,
   "id": "4e2465d8-a2d8-418b-9478-9d7033820772",
   "metadata": {},
   "outputs": [],
   "source": [
    "temp.data = h_c.values"
   ]
  },
  {
   "cell_type": "code",
   "execution_count": 231,
   "id": "afcf3cfb-3eac-482c-996c-8174ed35307a",
   "metadata": {},
   "outputs": [],
   "source": [
    "    fig = temp.plot_topomap(times=temp.times,  ch_type='eeg', scalings = 1, units = 'e-10', show = False,  time_unit='s',  colorbar = True, extrapolate = \"head\")\n",
    "    fig.suptitle('HoneyComb - CubesControl',  fontsize=16, fontweight='bold')\n",
    "    titles = ['theta', 'alpha', 'beta']\n",
    "    # Set titles for subplots\n",
    "    for ax, title in zip(fig.axes, titles):\n",
    "        ax.set_title(title)\n",
    "    fig\n",
    "    fig.savefig(f'D:/hse/psychodelic_like_experience/data_processing/pics/honey_cubes.png')"
   ]
  },
  {
   "cell_type": "markdown",
   "id": "70ed4385-6815-4f3c-9b68-4b1f6d944ca8",
   "metadata": {},
   "source": [
    "**SPECTRAL CONNECTIVITY**"
   ]
  },
  {
   "cell_type": "code",
   "execution_count": null,
   "id": "ccd2db9b-0bbe-4548-b53e-e0644936595f",
   "metadata": {},
   "outputs": [],
   "source": [
    "from mne_connectivity import spectral_connectivity_epochs\n",
    "from mne_connectivity.viz import plot_sensors_connectivity"
   ]
  },
  {
   "cell_type": "code",
   "execution_count": null,
   "id": "ae527976-e7c3-4ea3-9d48-0645cdc3bbfb",
   "metadata": {},
   "outputs": [],
   "source": [
    "raw = mne.io.read_raw_brainvision('C:/Users/User/Downloads/FX48.vhdr', preload = True)\n",
    "info = mne.create_info(ch_names = raw.pick('eeg').ch_names, sfreq = 500, ch_types='eeg', verbose=None)"
   ]
  },
  {
   "cell_type": "code",
   "execution_count": 464,
   "id": "7773ef0d-4720-49a1-9d54-e7d14775feca",
   "metadata": {},
   "outputs": [
    {
     "name": "stdout",
     "output_type": "stream",
     "text": [
      "Not setting metadata\n",
      "36 matching events found\n",
      "No baseline correction applied\n",
      "0 projection items activated\n",
      "Connectivity computation...\n",
      "only using indices for lower-triangular matrix\n",
      "    computing connectivity for 378 connections\n",
      "    using t=0.000s..25.000s for estimation (12501 points)\n",
      "    frequencies: 4.0Hz..9.0Hz (125 points)\n",
      "    connectivity scores will be averaged for each band\n",
      "    Using multitaper spectrum estimation with 7 DPSS windows\n",
      "    the following metrics will be computed: WPLI\n",
      "    computing connectivity for epoch 1\n"
     ]
    },
    {
     "name": "stderr",
     "output_type": "stream",
     "text": [
      "C:\\Users\\User\\AppData\\Local\\Temp\\ipykernel_9716\\1958929368.py:21: RuntimeWarning: There were no Annotations stored in <EpochsArray |  36 events (all good), 0 – 25 s, baseline off, ~96.2 MB, data loaded,\n",
      " '1': 36>, so metadata was not modified.\n",
      "  con = spectral_connectivity_epochs(\n"
     ]
    },
    {
     "name": "stdout",
     "output_type": "stream",
     "text": [
      "    computing connectivity for epoch 2\n",
      "    computing connectivity for epoch 3\n",
      "    computing connectivity for epoch 4\n",
      "    computing connectivity for epoch 5\n",
      "    computing connectivity for epoch 6\n",
      "    computing connectivity for epoch 7\n",
      "    computing connectivity for epoch 8\n",
      "    computing connectivity for epoch 9\n",
      "    computing connectivity for epoch 10\n",
      "    computing connectivity for epoch 11\n",
      "    computing connectivity for epoch 12\n",
      "    computing connectivity for epoch 13\n",
      "    computing connectivity for epoch 14\n",
      "    computing connectivity for epoch 15\n",
      "    computing connectivity for epoch 16\n",
      "    computing connectivity for epoch 17\n",
      "    computing connectivity for epoch 18\n",
      "    computing connectivity for epoch 19\n",
      "    computing connectivity for epoch 20\n",
      "    computing connectivity for epoch 21\n",
      "    computing connectivity for epoch 22\n",
      "    computing connectivity for epoch 23\n",
      "    computing connectivity for epoch 24\n",
      "    computing connectivity for epoch 25\n",
      "    computing connectivity for epoch 26\n",
      "    computing connectivity for epoch 27\n",
      "    computing connectivity for epoch 28\n",
      "    computing connectivity for epoch 29\n",
      "    computing connectivity for epoch 30\n",
      "    computing connectivity for epoch 31\n",
      "    computing connectivity for epoch 32\n",
      "    computing connectivity for epoch 33\n",
      "    computing connectivity for epoch 34\n",
      "    computing connectivity for epoch 35\n",
      "    computing connectivity for epoch 36\n",
      "    assembling connectivity matrix\n",
      "[Connectivity computation done]\n",
      "Not setting metadata\n",
      "35 matching events found\n",
      "No baseline correction applied\n",
      "0 projection items activated\n",
      "Connectivity computation...\n",
      "only using indices for lower-triangular matrix\n",
      "    computing connectivity for 378 connections\n",
      "    using t=0.000s..25.000s for estimation (12501 points)\n",
      "    frequencies: 4.0Hz..9.0Hz (125 points)\n",
      "    connectivity scores will be averaged for each band\n",
      "    Using multitaper spectrum estimation with 7 DPSS windows\n",
      "    the following metrics will be computed: WPLI\n",
      "    computing connectivity for epoch 1\n"
     ]
    },
    {
     "name": "stderr",
     "output_type": "stream",
     "text": [
      "C:\\Users\\User\\AppData\\Local\\Temp\\ipykernel_9716\\1958929368.py:21: RuntimeWarning: There were no Annotations stored in <EpochsArray |  35 events (all good), 0 – 25 s, baseline off, ~93.5 MB, data loaded,\n",
      " '1': 35>, so metadata was not modified.\n",
      "  con = spectral_connectivity_epochs(\n"
     ]
    },
    {
     "name": "stdout",
     "output_type": "stream",
     "text": [
      "    computing connectivity for epoch 2\n",
      "    computing connectivity for epoch 3\n",
      "    computing connectivity for epoch 4\n",
      "    computing connectivity for epoch 5\n",
      "    computing connectivity for epoch 6\n",
      "    computing connectivity for epoch 7\n",
      "    computing connectivity for epoch 8\n",
      "    computing connectivity for epoch 9\n",
      "    computing connectivity for epoch 10\n",
      "    computing connectivity for epoch 11\n",
      "    computing connectivity for epoch 12\n",
      "    computing connectivity for epoch 13\n",
      "    computing connectivity for epoch 14\n",
      "    computing connectivity for epoch 15\n",
      "    computing connectivity for epoch 16\n",
      "    computing connectivity for epoch 17\n",
      "    computing connectivity for epoch 18\n",
      "    computing connectivity for epoch 19\n",
      "    computing connectivity for epoch 20\n",
      "    computing connectivity for epoch 21\n",
      "    computing connectivity for epoch 22\n",
      "    computing connectivity for epoch 23\n",
      "    computing connectivity for epoch 24\n",
      "    computing connectivity for epoch 25\n",
      "    computing connectivity for epoch 26\n",
      "    computing connectivity for epoch 27\n",
      "    computing connectivity for epoch 28\n",
      "    computing connectivity for epoch 29\n",
      "    computing connectivity for epoch 30\n",
      "    computing connectivity for epoch 31\n",
      "    computing connectivity for epoch 32\n",
      "    computing connectivity for epoch 33\n",
      "    computing connectivity for epoch 34\n",
      "    computing connectivity for epoch 35\n",
      "    assembling connectivity matrix\n",
      "[Connectivity computation done]\n",
      "Not setting metadata\n",
      "34 matching events found\n",
      "No baseline correction applied\n",
      "0 projection items activated\n",
      "Connectivity computation...\n",
      "only using indices for lower-triangular matrix\n",
      "    computing connectivity for 378 connections\n",
      "    using t=0.000s..25.000s for estimation (12501 points)\n",
      "    frequencies: 4.0Hz..9.0Hz (125 points)\n",
      "    connectivity scores will be averaged for each band\n",
      "    Using multitaper spectrum estimation with 7 DPSS windows\n",
      "    the following metrics will be computed: WPLI\n",
      "    computing connectivity for epoch 1\n"
     ]
    },
    {
     "name": "stderr",
     "output_type": "stream",
     "text": [
      "C:\\Users\\User\\AppData\\Local\\Temp\\ipykernel_9716\\1958929368.py:21: RuntimeWarning: There were no Annotations stored in <EpochsArray |  34 events (all good), 0 – 25 s, baseline off, ~90.8 MB, data loaded,\n",
      " '1': 34>, so metadata was not modified.\n",
      "  con = spectral_connectivity_epochs(\n"
     ]
    },
    {
     "name": "stdout",
     "output_type": "stream",
     "text": [
      "    computing connectivity for epoch 2\n",
      "    computing connectivity for epoch 3\n",
      "    computing connectivity for epoch 4\n",
      "    computing connectivity for epoch 5\n",
      "    computing connectivity for epoch 6\n",
      "    computing connectivity for epoch 7\n",
      "    computing connectivity for epoch 8\n",
      "    computing connectivity for epoch 9\n",
      "    computing connectivity for epoch 10\n",
      "    computing connectivity for epoch 11\n",
      "    computing connectivity for epoch 12\n",
      "    computing connectivity for epoch 13\n",
      "    computing connectivity for epoch 14\n",
      "    computing connectivity for epoch 15\n",
      "    computing connectivity for epoch 16\n",
      "    computing connectivity for epoch 17\n",
      "    computing connectivity for epoch 18\n",
      "    computing connectivity for epoch 19\n",
      "    computing connectivity for epoch 20\n",
      "    computing connectivity for epoch 21\n",
      "    computing connectivity for epoch 22\n",
      "    computing connectivity for epoch 23\n",
      "    computing connectivity for epoch 24\n",
      "    computing connectivity for epoch 25\n",
      "    computing connectivity for epoch 26\n",
      "    computing connectivity for epoch 27\n",
      "    computing connectivity for epoch 28\n",
      "    computing connectivity for epoch 29\n",
      "    computing connectivity for epoch 30\n",
      "    computing connectivity for epoch 31\n",
      "    computing connectivity for epoch 32\n",
      "    computing connectivity for epoch 33\n",
      "    computing connectivity for epoch 34\n",
      "    assembling connectivity matrix\n",
      "[Connectivity computation done]\n",
      "Not setting metadata\n",
      "34 matching events found\n",
      "No baseline correction applied\n",
      "0 projection items activated\n",
      "Connectivity computation...\n",
      "only using indices for lower-triangular matrix\n",
      "    computing connectivity for 378 connections\n",
      "    using t=0.000s..25.000s for estimation (12501 points)\n",
      "    frequencies: 4.0Hz..9.0Hz (125 points)\n",
      "    connectivity scores will be averaged for each band\n",
      "    Using multitaper spectrum estimation with 7 DPSS windows\n",
      "    the following metrics will be computed: WPLI\n",
      "    computing connectivity for epoch 1\n"
     ]
    },
    {
     "name": "stderr",
     "output_type": "stream",
     "text": [
      "C:\\Users\\User\\AppData\\Local\\Temp\\ipykernel_9716\\1958929368.py:21: RuntimeWarning: There were no Annotations stored in <EpochsArray |  34 events (all good), 0 – 25 s, baseline off, ~90.8 MB, data loaded,\n",
      " '1': 34>, so metadata was not modified.\n",
      "  con = spectral_connectivity_epochs(\n"
     ]
    },
    {
     "name": "stdout",
     "output_type": "stream",
     "text": [
      "    computing connectivity for epoch 2\n",
      "    computing connectivity for epoch 3\n",
      "    computing connectivity for epoch 4\n",
      "    computing connectivity for epoch 5\n",
      "    computing connectivity for epoch 6\n",
      "    computing connectivity for epoch 7\n",
      "    computing connectivity for epoch 8\n",
      "    computing connectivity for epoch 9\n",
      "    computing connectivity for epoch 10\n",
      "    computing connectivity for epoch 11\n",
      "    computing connectivity for epoch 12\n",
      "    computing connectivity for epoch 13\n",
      "    computing connectivity for epoch 14\n",
      "    computing connectivity for epoch 15\n",
      "    computing connectivity for epoch 16\n",
      "    computing connectivity for epoch 17\n",
      "    computing connectivity for epoch 18\n",
      "    computing connectivity for epoch 19\n",
      "    computing connectivity for epoch 20\n",
      "    computing connectivity for epoch 21\n",
      "    computing connectivity for epoch 22\n",
      "    computing connectivity for epoch 23\n",
      "    computing connectivity for epoch 24\n",
      "    computing connectivity for epoch 25\n",
      "    computing connectivity for epoch 26\n",
      "    computing connectivity for epoch 27\n",
      "    computing connectivity for epoch 28\n",
      "    computing connectivity for epoch 29\n",
      "    computing connectivity for epoch 30\n",
      "    computing connectivity for epoch 31\n",
      "    computing connectivity for epoch 32\n",
      "    computing connectivity for epoch 33\n",
      "    computing connectivity for epoch 34\n",
      "    assembling connectivity matrix\n",
      "[Connectivity computation done]\n"
     ]
    }
   ],
   "source": [
    "scenes = ['kaleidoscope', 'CubesControl', 'HoneyComb', 'Fractal']\n",
    "#scenes = ['Fractal']\n",
    "for scene in scenes:\n",
    "    list_epochs = []\n",
    "    for i in range(len(epochs_all)):\n",
    "        list_epochs.append(epochs_all[i][scene])\n",
    "    Fractal = []\n",
    "    for i in range(1, len(list_epochs)):\n",
    "        epochs = list_epochs[i].pick('eeg').get_data()\n",
    "        for j in range(0, epochs.shape[0]):\n",
    "            epoch = epochs[j]\n",
    "            #print(epoch.shape)\n",
    "            Fractal.append(epoch)\n",
    "    data = np.array(Fractal)       \n",
    "    data = mne.EpochsArray(data, info, events=None, tmin=0, proj=True)\n",
    "    data.set_montage(montage='standard_1020')\n",
    "    fmin, fmax = 4., 9.\n",
    "    sfreq = 500 \n",
    "    tmin = 0.0 \n",
    "    data.load_data().pick('eeg') \n",
    "    con = spectral_connectivity_epochs(\n",
    "        data, method='wpli', mode='multitaper', sfreq=sfreq, fmin=fmin, fmax=fmax,\n",
    "        faverage=True, tmin=tmin, mt_adaptive=False, n_jobs=1)\n",
    "    connectivity_fig = plot_sensors_connectivity(data.info, con.get_data(output=\"dense\")[:, :, 0], picks='eeg', cbar_label=f'Connectivity_{scene}')\n",
    "    screenshot = connectivity_fig.plotter.screenshot()\n",
    "\n",
    "    # The screenshot is just a NumPy array, so we can display it via imshow()\n",
    "    # and then save it to a file.\n",
    "    fig, ax = plt.subplots(figsize=(10, 10))\n",
    "    ax.imshow(screenshot, origin='upper')\n",
    "    ax.set_axis_off()  # Disable axis labels and ticks\n",
    "    fig.tight_layout()\n",
    "    fig.savefig(f'D:/hse/psychodelic_like_experience/data_processing/connectivity/connectivity_{scene}.png', dpi=600)"
   ]
  },
  {
   "cell_type": "markdown",
   "id": "60931fec-919c-4dfd-9f4f-873acdf94280",
   "metadata": {},
   "source": [
    "**...FIN?**\n",
    "no, fur"
   ]
  },
  {
   "cell_type": "code",
   "execution_count": null,
   "id": "35a1ad9f-9c36-4684-be0c-9d760590c23f",
   "metadata": {},
   "outputs": [],
   "source": []
  },
  {
   "cell_type": "code",
   "execution_count": null,
   "id": "fc43be2b-25ab-41de-aeb5-83ac0c0f22aa",
   "metadata": {},
   "outputs": [],
   "source": []
  },
  {
   "cell_type": "code",
   "execution_count": null,
   "id": "e6c6a10c-fca9-41ae-8bf8-50d3d7bfdf91",
   "metadata": {},
   "outputs": [],
   "source": []
  }
 ],
 "metadata": {
  "kernelspec": {
   "display_name": "Python 3 (ipykernel)",
   "language": "python",
   "name": "python3"
  },
  "language_info": {
   "codemirror_mode": {
    "name": "ipython",
    "version": 3
   },
   "file_extension": ".py",
   "mimetype": "text/x-python",
   "name": "python",
   "nbconvert_exporter": "python",
   "pygments_lexer": "ipython3",
   "version": "3.11.4"
  }
 },
 "nbformat": 4,
 "nbformat_minor": 5
}
